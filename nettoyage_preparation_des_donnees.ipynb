{
 "cells": [
  {
   "cell_type": "markdown",
   "id": "83998f61",
   "metadata": {},
   "source": [
    "# Table des matières\n",
    "\n",
    "- # Vérifications et nettoyage des dataframes\n",
    "    - ## [Customers](#section_1_1) - Vérifications et nettoyage du dataframe customers\n",
    "    - ## [Products](#section_1_2) - Vérifications et nettoyage du dataframe products\n",
    "    - ## [Transactions](#section_1_3) - Vérifications et nettoyage du dataframe transactions\n",
    "    - ## [Products](#section_1_4) - Nettoyage complémentaire du dataframe products\n",
    "    - ## [Customers](#section_1_5) - Nettoyage complémentaire du dataframe transactions\n",
    "<br>\n",
    "\n",
    "- # Jointures\n",
    "    - ## [df_transactions et df_products](#section_2_1) - Première jointure\n",
    "    - ## [df_transactions_products et df_customers](#section_2_2) - Deuxième jointure pour créer le dataframe final\n",
    "<br>\n",
    "\n",
    "- # Ajouts d'informations\n",
    "    - ## [Dates de transactions](#section_3_1) - Ajouts de colonnes pour scinder les dates en année/mois/jour\n",
    "    - ## [Discrétisation de l'âge](#section_3_2) - Ajout d'une colonne d'âge basé sur une discrétisation\n",
    "<br>\n",
    "\n",
    "- # Visualisation des données nettoyées\n",
    "    - ## [Customers](#section_4_1) - Visualisation des données nettoyées de customers\n",
    "    - ## [Transactions](#section_4_2) - Visualisation des données nettoyées de transactions\n",
    "     - ### [Octobre 2021](#section_4_2_1) - Analyse de la baisse du mois d'octobre 2021\n",
    "    - ## [Products](#section_4_3) - Visualisation des données nettoyées de products"
   ]
  },
  {
   "cell_type": "markdown",
   "id": "bf478ca4",
   "metadata": {},
   "source": [
    "### Import des librairies ainsi que leurs versions"
   ]
  },
  {
   "cell_type": "code",
   "execution_count": 1,
   "id": "25f7eacf",
   "metadata": {
    "scrolled": true
   },
   "outputs": [
    {
     "name": "stdout",
     "output_type": "stream",
     "text": [
      "Python 3.9.12\n",
      "pandas 1.4.2\n",
      "numpy 1.21.5\n",
      "seaborn 0.11.2\n"
     ]
    }
   ],
   "source": [
    "import pandas as pd\n",
    "import numpy as np\n",
    "import matplotlib.pyplot as plt\n",
    "import seaborn as sns\n",
    "import math\n",
    "from datetime import datetime\n",
    "\n",
    "!python --version\n",
    "print('\\n'.join(f'{m.__name__} {m.__version__}' \n",
    "                for m in globals().values() \n",
    "                if getattr(m, '__version__', None)))"
   ]
  },
  {
   "cell_type": "markdown",
   "id": "430d3f7c",
   "metadata": {},
   "source": [
    "### Options d'affichage"
   ]
  },
  {
   "cell_type": "code",
   "execution_count": 2,
   "id": "d7309de2",
   "metadata": {},
   "outputs": [],
   "source": [
    "# Affichage de seulement deux chiffres après la virgule\n",
    "pd.set_option(\"display.precision\", 2)\n",
    "\n",
    "plt.rcParams.update({'font.size': 14})"
   ]
  },
  {
   "cell_type": "markdown",
   "id": "58ea73a0",
   "metadata": {},
   "source": [
    "### Import des dataframes"
   ]
  },
  {
   "cell_type": "code",
   "execution_count": 3,
   "id": "aca8ab50",
   "metadata": {},
   "outputs": [],
   "source": [
    "df_customers = pd.read_csv(\"Customers.csv\")\n",
    "df_products = pd.read_csv(\"Products.csv\")\n",
    "df_transactions = pd.read_csv(\"Transactions.csv\")"
   ]
  },
  {
   "cell_type": "markdown",
   "id": "7fdd251a",
   "metadata": {},
   "source": [
    "#  Vérifications et nettoyages des dataframes"
   ]
  },
  {
   "cell_type": "markdown",
   "id": "85aba77b",
   "metadata": {},
   "source": [
    " ## <a class=\"anchor\" id=\"section_1_1\">Customers</a> - Vérifications et nettoyage du dataframe customers"
   ]
  },
  {
   "cell_type": "code",
   "execution_count": 4,
   "id": "9b0ff757",
   "metadata": {},
   "outputs": [
    {
     "data": {
      "text/html": [
       "<div>\n",
       "<style scoped>\n",
       "    .dataframe tbody tr th:only-of-type {\n",
       "        vertical-align: middle;\n",
       "    }\n",
       "\n",
       "    .dataframe tbody tr th {\n",
       "        vertical-align: top;\n",
       "    }\n",
       "\n",
       "    .dataframe thead th {\n",
       "        text-align: right;\n",
       "    }\n",
       "</style>\n",
       "<table border=\"1\" class=\"dataframe\">\n",
       "  <thead>\n",
       "    <tr style=\"text-align: right;\">\n",
       "      <th></th>\n",
       "      <th>client_id</th>\n",
       "      <th>sex</th>\n",
       "      <th>birth</th>\n",
       "    </tr>\n",
       "  </thead>\n",
       "  <tbody>\n",
       "    <tr>\n",
       "      <th>0</th>\n",
       "      <td>c_4410</td>\n",
       "      <td>f</td>\n",
       "      <td>1967</td>\n",
       "    </tr>\n",
       "    <tr>\n",
       "      <th>1</th>\n",
       "      <td>c_7839</td>\n",
       "      <td>f</td>\n",
       "      <td>1975</td>\n",
       "    </tr>\n",
       "    <tr>\n",
       "      <th>2</th>\n",
       "      <td>c_1699</td>\n",
       "      <td>f</td>\n",
       "      <td>1984</td>\n",
       "    </tr>\n",
       "    <tr>\n",
       "      <th>3</th>\n",
       "      <td>c_5961</td>\n",
       "      <td>f</td>\n",
       "      <td>1962</td>\n",
       "    </tr>\n",
       "    <tr>\n",
       "      <th>4</th>\n",
       "      <td>c_5320</td>\n",
       "      <td>m</td>\n",
       "      <td>1943</td>\n",
       "    </tr>\n",
       "  </tbody>\n",
       "</table>\n",
       "</div>"
      ],
      "text/plain": [
       "  client_id sex  birth\n",
       "0    c_4410   f   1967\n",
       "1    c_7839   f   1975\n",
       "2    c_1699   f   1984\n",
       "3    c_5961   f   1962\n",
       "4    c_5320   m   1943"
      ]
     },
     "metadata": {},
     "output_type": "display_data"
    }
   ],
   "source": [
    "display(df_customers.head())"
   ]
  },
  {
   "cell_type": "code",
   "execution_count": 5,
   "id": "29cbbc32",
   "metadata": {},
   "outputs": [
    {
     "name": "stdout",
     "output_type": "stream",
     "text": [
      "<class 'pandas.core.frame.DataFrame'>\n",
      "RangeIndex: 8623 entries, 0 to 8622\n",
      "Data columns (total 3 columns):\n",
      " #   Column     Non-Null Count  Dtype \n",
      "---  ------     --------------  ----- \n",
      " 0   client_id  8623 non-null   object\n",
      " 1   sex        8623 non-null   object\n",
      " 2   birth      8623 non-null   int64 \n",
      "dtypes: int64(1), object(2)\n",
      "memory usage: 202.2+ KB\n"
     ]
    }
   ],
   "source": [
    "# Infos du dataframe \"customers\"\n",
    "df_customers.info()"
   ]
  },
  {
   "cell_type": "code",
   "execution_count": 6,
   "id": "9a825b44",
   "metadata": {},
   "outputs": [
    {
     "data": {
      "text/plain": [
       "0"
      ]
     },
     "execution_count": 6,
     "metadata": {},
     "output_type": "execute_result"
    }
   ],
   "source": [
    "# Vérification de doublons sur la clé \"client_id\"\n",
    "df_customers.duplicated(subset=['client_id']).sum()"
   ]
  },
  {
   "cell_type": "code",
   "execution_count": 7,
   "id": "f72dda53",
   "metadata": {},
   "outputs": [
    {
     "data": {
      "text/html": [
       "<div>\n",
       "<style scoped>\n",
       "    .dataframe tbody tr th:only-of-type {\n",
       "        vertical-align: middle;\n",
       "    }\n",
       "\n",
       "    .dataframe tbody tr th {\n",
       "        vertical-align: top;\n",
       "    }\n",
       "\n",
       "    .dataframe thead th {\n",
       "        text-align: right;\n",
       "    }\n",
       "</style>\n",
       "<table border=\"1\" class=\"dataframe\">\n",
       "  <thead>\n",
       "    <tr style=\"text-align: right;\">\n",
       "      <th></th>\n",
       "      <th>birth</th>\n",
       "    </tr>\n",
       "  </thead>\n",
       "  <tbody>\n",
       "    <tr>\n",
       "      <th>count</th>\n",
       "      <td>8623.00</td>\n",
       "    </tr>\n",
       "    <tr>\n",
       "      <th>mean</th>\n",
       "      <td>1978.28</td>\n",
       "    </tr>\n",
       "    <tr>\n",
       "      <th>std</th>\n",
       "      <td>16.92</td>\n",
       "    </tr>\n",
       "    <tr>\n",
       "      <th>min</th>\n",
       "      <td>1929.00</td>\n",
       "    </tr>\n",
       "    <tr>\n",
       "      <th>25%</th>\n",
       "      <td>1966.00</td>\n",
       "    </tr>\n",
       "    <tr>\n",
       "      <th>50%</th>\n",
       "      <td>1979.00</td>\n",
       "    </tr>\n",
       "    <tr>\n",
       "      <th>75%</th>\n",
       "      <td>1992.00</td>\n",
       "    </tr>\n",
       "    <tr>\n",
       "      <th>max</th>\n",
       "      <td>2004.00</td>\n",
       "    </tr>\n",
       "  </tbody>\n",
       "</table>\n",
       "</div>"
      ],
      "text/plain": [
       "         birth\n",
       "count  8623.00\n",
       "mean   1978.28\n",
       "std      16.92\n",
       "min    1929.00\n",
       "25%    1966.00\n",
       "50%    1979.00\n",
       "75%    1992.00\n",
       "max    2004.00"
      ]
     },
     "execution_count": 7,
     "metadata": {},
     "output_type": "execute_result"
    }
   ],
   "source": [
    "# Description du dataframe \"customers\"\n",
    "df_customers.describe()"
   ]
  },
  {
   "cell_type": "markdown",
   "id": "f426994e",
   "metadata": {},
   "source": [
    "- Il n'y a pas de valeurs nulles\n",
    "- Il n'y a pas de doublons\n",
    "- Pas de soucis au niveau des valeurs liées à la date de naissance"
   ]
  },
  {
   "cell_type": "markdown",
   "id": "419b3088",
   "metadata": {},
   "source": [
    " ## <a class=\"anchor\" id=\"section_1_2\">Products</a> - Vérifications et nettoyage du dataframe products"
   ]
  },
  {
   "cell_type": "code",
   "execution_count": 8,
   "id": "fd312901",
   "metadata": {},
   "outputs": [
    {
     "data": {
      "text/html": [
       "<div>\n",
       "<style scoped>\n",
       "    .dataframe tbody tr th:only-of-type {\n",
       "        vertical-align: middle;\n",
       "    }\n",
       "\n",
       "    .dataframe tbody tr th {\n",
       "        vertical-align: top;\n",
       "    }\n",
       "\n",
       "    .dataframe thead th {\n",
       "        text-align: right;\n",
       "    }\n",
       "</style>\n",
       "<table border=\"1\" class=\"dataframe\">\n",
       "  <thead>\n",
       "    <tr style=\"text-align: right;\">\n",
       "      <th></th>\n",
       "      <th>id_prod</th>\n",
       "      <th>price</th>\n",
       "      <th>categ</th>\n",
       "    </tr>\n",
       "  </thead>\n",
       "  <tbody>\n",
       "    <tr>\n",
       "      <th>0</th>\n",
       "      <td>0_1421</td>\n",
       "      <td>19.99</td>\n",
       "      <td>0</td>\n",
       "    </tr>\n",
       "    <tr>\n",
       "      <th>1</th>\n",
       "      <td>0_1368</td>\n",
       "      <td>5.13</td>\n",
       "      <td>0</td>\n",
       "    </tr>\n",
       "    <tr>\n",
       "      <th>2</th>\n",
       "      <td>0_731</td>\n",
       "      <td>17.99</td>\n",
       "      <td>0</td>\n",
       "    </tr>\n",
       "    <tr>\n",
       "      <th>3</th>\n",
       "      <td>1_587</td>\n",
       "      <td>4.99</td>\n",
       "      <td>1</td>\n",
       "    </tr>\n",
       "    <tr>\n",
       "      <th>4</th>\n",
       "      <td>0_1507</td>\n",
       "      <td>3.99</td>\n",
       "      <td>0</td>\n",
       "    </tr>\n",
       "  </tbody>\n",
       "</table>\n",
       "</div>"
      ],
      "text/plain": [
       "  id_prod  price  categ\n",
       "0  0_1421  19.99      0\n",
       "1  0_1368   5.13      0\n",
       "2   0_731  17.99      0\n",
       "3   1_587   4.99      1\n",
       "4  0_1507   3.99      0"
      ]
     },
     "metadata": {},
     "output_type": "display_data"
    }
   ],
   "source": [
    "display(df_products.head())"
   ]
  },
  {
   "cell_type": "code",
   "execution_count": 9,
   "id": "14211b70",
   "metadata": {
    "scrolled": false
   },
   "outputs": [
    {
     "name": "stdout",
     "output_type": "stream",
     "text": [
      "<class 'pandas.core.frame.DataFrame'>\n",
      "RangeIndex: 3287 entries, 0 to 3286\n",
      "Data columns (total 3 columns):\n",
      " #   Column   Non-Null Count  Dtype  \n",
      "---  ------   --------------  -----  \n",
      " 0   id_prod  3287 non-null   object \n",
      " 1   price    3287 non-null   float64\n",
      " 2   categ    3287 non-null   int64  \n",
      "dtypes: float64(1), int64(1), object(1)\n",
      "memory usage: 77.2+ KB\n"
     ]
    }
   ],
   "source": [
    "# Infos du dataframe \"products\"\n",
    "df_products.info()"
   ]
  },
  {
   "cell_type": "code",
   "execution_count": 10,
   "id": "b64b712c",
   "metadata": {},
   "outputs": [
    {
     "data": {
      "text/plain": [
       "0"
      ]
     },
     "execution_count": 10,
     "metadata": {},
     "output_type": "execute_result"
    }
   ],
   "source": [
    "# Vérification de doublons sur la clé \"id_prod\"\n",
    "df_products.duplicated(subset=['id_prod']).sum()"
   ]
  },
  {
   "cell_type": "code",
   "execution_count": 11,
   "id": "fe21538a",
   "metadata": {
    "scrolled": true
   },
   "outputs": [
    {
     "data": {
      "text/html": [
       "<div>\n",
       "<style scoped>\n",
       "    .dataframe tbody tr th:only-of-type {\n",
       "        vertical-align: middle;\n",
       "    }\n",
       "\n",
       "    .dataframe tbody tr th {\n",
       "        vertical-align: top;\n",
       "    }\n",
       "\n",
       "    .dataframe thead th {\n",
       "        text-align: right;\n",
       "    }\n",
       "</style>\n",
       "<table border=\"1\" class=\"dataframe\">\n",
       "  <thead>\n",
       "    <tr style=\"text-align: right;\">\n",
       "      <th></th>\n",
       "      <th>price</th>\n",
       "      <th>categ</th>\n",
       "    </tr>\n",
       "  </thead>\n",
       "  <tbody>\n",
       "    <tr>\n",
       "      <th>count</th>\n",
       "      <td>3287.00</td>\n",
       "      <td>3287.00</td>\n",
       "    </tr>\n",
       "    <tr>\n",
       "      <th>mean</th>\n",
       "      <td>21.86</td>\n",
       "      <td>0.37</td>\n",
       "    </tr>\n",
       "    <tr>\n",
       "      <th>std</th>\n",
       "      <td>29.85</td>\n",
       "      <td>0.62</td>\n",
       "    </tr>\n",
       "    <tr>\n",
       "      <th>min</th>\n",
       "      <td>-1.00</td>\n",
       "      <td>0.00</td>\n",
       "    </tr>\n",
       "    <tr>\n",
       "      <th>25%</th>\n",
       "      <td>6.99</td>\n",
       "      <td>0.00</td>\n",
       "    </tr>\n",
       "    <tr>\n",
       "      <th>50%</th>\n",
       "      <td>13.06</td>\n",
       "      <td>0.00</td>\n",
       "    </tr>\n",
       "    <tr>\n",
       "      <th>75%</th>\n",
       "      <td>22.99</td>\n",
       "      <td>1.00</td>\n",
       "    </tr>\n",
       "    <tr>\n",
       "      <th>max</th>\n",
       "      <td>300.00</td>\n",
       "      <td>2.00</td>\n",
       "    </tr>\n",
       "  </tbody>\n",
       "</table>\n",
       "</div>"
      ],
      "text/plain": [
       "         price    categ\n",
       "count  3287.00  3287.00\n",
       "mean     21.86     0.37\n",
       "std      29.85     0.62\n",
       "min      -1.00     0.00\n",
       "25%       6.99     0.00\n",
       "50%      13.06     0.00\n",
       "75%      22.99     1.00\n",
       "max     300.00     2.00"
      ]
     },
     "execution_count": 11,
     "metadata": {},
     "output_type": "execute_result"
    }
   ],
   "source": [
    "# Description du dataframe \"products\"\n",
    "df_products.describe()"
   ]
  },
  {
   "cell_type": "markdown",
   "id": "5e26c232",
   "metadata": {},
   "source": [
    "- Il n'y a pas de valeurs nulles\n",
    "- Il n'y a pas de doublons\n",
    "- On voit qu'il y a une valeur \"-1\" dans la partie \"min\", à surveiller de près pour la suite pour un nettoyage complémentaire\n",
    "- Il y a trois catégories (0, 1 et 2)"
   ]
  },
  {
   "cell_type": "markdown",
   "id": "ad851185",
   "metadata": {},
   "source": [
    " ## <a class=\"anchor\" id=\"section_1_3\">Transactions</a> - Vérifications et nettoyage du dataframe transactions"
   ]
  },
  {
   "cell_type": "code",
   "execution_count": 12,
   "id": "43be4c5b",
   "metadata": {},
   "outputs": [
    {
     "data": {
      "text/html": [
       "<div>\n",
       "<style scoped>\n",
       "    .dataframe tbody tr th:only-of-type {\n",
       "        vertical-align: middle;\n",
       "    }\n",
       "\n",
       "    .dataframe tbody tr th {\n",
       "        vertical-align: top;\n",
       "    }\n",
       "\n",
       "    .dataframe thead th {\n",
       "        text-align: right;\n",
       "    }\n",
       "</style>\n",
       "<table border=\"1\" class=\"dataframe\">\n",
       "  <thead>\n",
       "    <tr style=\"text-align: right;\">\n",
       "      <th></th>\n",
       "      <th>id_prod</th>\n",
       "      <th>date</th>\n",
       "      <th>session_id</th>\n",
       "      <th>client_id</th>\n",
       "    </tr>\n",
       "  </thead>\n",
       "  <tbody>\n",
       "    <tr>\n",
       "      <th>0</th>\n",
       "      <td>0_1518</td>\n",
       "      <td>2022-05-20 13:21:29.043970</td>\n",
       "      <td>s_211425</td>\n",
       "      <td>c_103</td>\n",
       "    </tr>\n",
       "    <tr>\n",
       "      <th>1</th>\n",
       "      <td>1_251</td>\n",
       "      <td>2022-02-02 07:55:19.149409</td>\n",
       "      <td>s_158752</td>\n",
       "      <td>c_8534</td>\n",
       "    </tr>\n",
       "    <tr>\n",
       "      <th>2</th>\n",
       "      <td>0_1277</td>\n",
       "      <td>2022-06-18 15:44:33.155329</td>\n",
       "      <td>s_225667</td>\n",
       "      <td>c_6714</td>\n",
       "    </tr>\n",
       "    <tr>\n",
       "      <th>3</th>\n",
       "      <td>2_209</td>\n",
       "      <td>2021-06-24 04:19:29.835891</td>\n",
       "      <td>s_52962</td>\n",
       "      <td>c_6941</td>\n",
       "    </tr>\n",
       "    <tr>\n",
       "      <th>4</th>\n",
       "      <td>0_1509</td>\n",
       "      <td>2023-01-11 08:22:08.194479</td>\n",
       "      <td>s_325227</td>\n",
       "      <td>c_4232</td>\n",
       "    </tr>\n",
       "  </tbody>\n",
       "</table>\n",
       "</div>"
      ],
      "text/plain": [
       "  id_prod                        date session_id client_id\n",
       "0  0_1518  2022-05-20 13:21:29.043970   s_211425     c_103\n",
       "1   1_251  2022-02-02 07:55:19.149409   s_158752    c_8534\n",
       "2  0_1277  2022-06-18 15:44:33.155329   s_225667    c_6714\n",
       "3   2_209  2021-06-24 04:19:29.835891    s_52962    c_6941\n",
       "4  0_1509  2023-01-11 08:22:08.194479   s_325227    c_4232"
      ]
     },
     "metadata": {},
     "output_type": "display_data"
    }
   ],
   "source": [
    "display(df_transactions.head())"
   ]
  },
  {
   "cell_type": "code",
   "execution_count": 13,
   "id": "204dfb0e",
   "metadata": {
    "scrolled": false
   },
   "outputs": [
    {
     "name": "stdout",
     "output_type": "stream",
     "text": [
      "<class 'pandas.core.frame.DataFrame'>\n",
      "RangeIndex: 679532 entries, 0 to 679531\n",
      "Data columns (total 4 columns):\n",
      " #   Column      Non-Null Count   Dtype \n",
      "---  ------      --------------   ----- \n",
      " 0   id_prod     679532 non-null  object\n",
      " 1   date        679532 non-null  object\n",
      " 2   session_id  679532 non-null  object\n",
      " 3   client_id   679532 non-null  object\n",
      "dtypes: object(4)\n",
      "memory usage: 20.7+ MB\n"
     ]
    }
   ],
   "source": [
    "# Infos du dataframe \"transactions\"\n",
    "df_transactions.info()"
   ]
  },
  {
   "cell_type": "code",
   "execution_count": 14,
   "id": "c72e8cfb",
   "metadata": {},
   "outputs": [
    {
     "data": {
      "text/plain": [
       "126"
      ]
     },
     "execution_count": 14,
     "metadata": {},
     "output_type": "execute_result"
    }
   ],
   "source": [
    "# Vérification de doublons\n",
    "df_transactions.duplicated(subset=['date', 'session_id', 'client_id']).sum()"
   ]
  },
  {
   "cell_type": "code",
   "execution_count": 15,
   "id": "9966cb72",
   "metadata": {},
   "outputs": [
    {
     "data": {
      "text/html": [
       "<div>\n",
       "<style scoped>\n",
       "    .dataframe tbody tr th:only-of-type {\n",
       "        vertical-align: middle;\n",
       "    }\n",
       "\n",
       "    .dataframe tbody tr th {\n",
       "        vertical-align: top;\n",
       "    }\n",
       "\n",
       "    .dataframe thead th {\n",
       "        text-align: right;\n",
       "    }\n",
       "</style>\n",
       "<table border=\"1\" class=\"dataframe\">\n",
       "  <thead>\n",
       "    <tr style=\"text-align: right;\">\n",
       "      <th></th>\n",
       "      <th>id_prod</th>\n",
       "      <th>date</th>\n",
       "      <th>session_id</th>\n",
       "      <th>client_id</th>\n",
       "    </tr>\n",
       "  </thead>\n",
       "  <tbody>\n",
       "    <tr>\n",
       "      <th>count</th>\n",
       "      <td>679532</td>\n",
       "      <td>679532</td>\n",
       "      <td>679532</td>\n",
       "      <td>679532</td>\n",
       "    </tr>\n",
       "    <tr>\n",
       "      <th>unique</th>\n",
       "      <td>3267</td>\n",
       "      <td>679371</td>\n",
       "      <td>342316</td>\n",
       "      <td>8602</td>\n",
       "    </tr>\n",
       "    <tr>\n",
       "      <th>top</th>\n",
       "      <td>1_369</td>\n",
       "      <td>test_2021-03-01 02:30:02.237413</td>\n",
       "      <td>s_0</td>\n",
       "      <td>c_1609</td>\n",
       "    </tr>\n",
       "    <tr>\n",
       "      <th>freq</th>\n",
       "      <td>2252</td>\n",
       "      <td>13</td>\n",
       "      <td>200</td>\n",
       "      <td>25488</td>\n",
       "    </tr>\n",
       "  </tbody>\n",
       "</table>\n",
       "</div>"
      ],
      "text/plain": [
       "       id_prod                             date session_id client_id\n",
       "count   679532                           679532     679532    679532\n",
       "unique    3267                           679371     342316      8602\n",
       "top      1_369  test_2021-03-01 02:30:02.237413        s_0    c_1609\n",
       "freq      2252                               13        200     25488"
      ]
     },
     "execution_count": 15,
     "metadata": {},
     "output_type": "execute_result"
    }
   ],
   "source": [
    "# Description du dataframe \"transactions\"\n",
    "df_transactions.describe()"
   ]
  },
  {
   "cell_type": "markdown",
   "id": "9deaa498",
   "metadata": {},
   "source": [
    "<b>Il y a des valeurs de test au niveau de la date. Il y a possiblement eu des transactions fictives, il faut donc les enlever.</b>"
   ]
  },
  {
   "cell_type": "code",
   "execution_count": 16,
   "id": "2bc8f72a",
   "metadata": {},
   "outputs": [
    {
     "data": {
      "text/plain": [
       "(200, 4)"
      ]
     },
     "execution_count": 16,
     "metadata": {},
     "output_type": "execute_result"
    }
   ],
   "source": [
    "# Vérification de l'id_prod avec un shape pour compter ces transactions fictives\n",
    "df_transactions.loc[(df_transactions[\"id_prod\"] == \"T_0\")].shape"
   ]
  },
  {
   "cell_type": "code",
   "execution_count": 17,
   "id": "8de03f91",
   "metadata": {},
   "outputs": [
    {
     "data": {
      "text/html": [
       "<div>\n",
       "<style scoped>\n",
       "    .dataframe tbody tr th:only-of-type {\n",
       "        vertical-align: middle;\n",
       "    }\n",
       "\n",
       "    .dataframe tbody tr th {\n",
       "        vertical-align: top;\n",
       "    }\n",
       "\n",
       "    .dataframe thead th {\n",
       "        text-align: right;\n",
       "    }\n",
       "</style>\n",
       "<table border=\"1\" class=\"dataframe\">\n",
       "  <thead>\n",
       "    <tr style=\"text-align: right;\">\n",
       "      <th></th>\n",
       "      <th>session_id</th>\n",
       "      <th>date</th>\n",
       "      <th>client_id</th>\n",
       "    </tr>\n",
       "  </thead>\n",
       "  <tbody>\n",
       "    <tr>\n",
       "      <th>count</th>\n",
       "      <td>200</td>\n",
       "      <td>200</td>\n",
       "      <td>200</td>\n",
       "    </tr>\n",
       "    <tr>\n",
       "      <th>unique</th>\n",
       "      <td>1</td>\n",
       "      <td>39</td>\n",
       "      <td>2</td>\n",
       "    </tr>\n",
       "    <tr>\n",
       "      <th>top</th>\n",
       "      <td>s_0</td>\n",
       "      <td>test_2021-03-01 02:30:02.237413</td>\n",
       "      <td>ct_0</td>\n",
       "    </tr>\n",
       "    <tr>\n",
       "      <th>freq</th>\n",
       "      <td>200</td>\n",
       "      <td>13</td>\n",
       "      <td>106</td>\n",
       "    </tr>\n",
       "  </tbody>\n",
       "</table>\n",
       "</div>"
      ],
      "text/plain": [
       "       session_id                             date client_id\n",
       "count         200                              200       200\n",
       "unique          1                               39         2\n",
       "top           s_0  test_2021-03-01 02:30:02.237413      ct_0\n",
       "freq          200                               13       106"
      ]
     },
     "execution_count": 17,
     "metadata": {},
     "output_type": "execute_result"
    }
   ],
   "source": [
    "# On va cibler la recherche sur la transaction qui possède \"T_0\" en \"id_prod\"\n",
    "df_transactions.loc[(df_transactions[\"id_prod\"] == \"T_0\"), (\"session_id\", \"date\", \"client_id\")].describe()"
   ]
  },
  {
   "cell_type": "markdown",
   "id": "55fc9329",
   "metadata": {},
   "source": [
    "- 200 transactions de test ont été réalisées (c'est le même \"id_prod\" et le même \"session_id\")\n",
    "- Il y a deux clients \"ct_0\" et \"ct_1\" (c'est montré quand on a trié les dates)\n",
    "- L'analyse montre également que le fameux prix \"-1\" trouvé précédemment (dans le dataframe products), fasse référence à ces tests"
   ]
  },
  {
   "cell_type": "code",
   "execution_count": 18,
   "id": "881049c1",
   "metadata": {},
   "outputs": [],
   "source": [
    "# Suppression des 200 lignes de transactions de test\n",
    "df_transactions.drop(df_transactions[(df_transactions[\"id_prod\"] == \"T_0\")].index, inplace=True)"
   ]
  },
  {
   "cell_type": "code",
   "execution_count": 19,
   "id": "1e54e9c1",
   "metadata": {},
   "outputs": [],
   "source": [
    "# Conversion du type \"objet\" en \"date\" pour la colonne \"date\"\n",
    "df_transactions[\"date\"] = pd.to_datetime(df_transactions[\"date\"], format='%Y-%m-%d')"
   ]
  },
  {
   "cell_type": "code",
   "execution_count": 20,
   "id": "23500064",
   "metadata": {},
   "outputs": [
    {
     "data": {
      "text/html": [
       "<div>\n",
       "<style scoped>\n",
       "    .dataframe tbody tr th:only-of-type {\n",
       "        vertical-align: middle;\n",
       "    }\n",
       "\n",
       "    .dataframe tbody tr th {\n",
       "        vertical-align: top;\n",
       "    }\n",
       "\n",
       "    .dataframe thead th {\n",
       "        text-align: right;\n",
       "    }\n",
       "</style>\n",
       "<table border=\"1\" class=\"dataframe\">\n",
       "  <thead>\n",
       "    <tr style=\"text-align: right;\">\n",
       "      <th></th>\n",
       "      <th>id_prod</th>\n",
       "      <th>date</th>\n",
       "      <th>session_id</th>\n",
       "      <th>client_id</th>\n",
       "    </tr>\n",
       "  </thead>\n",
       "  <tbody>\n",
       "    <tr>\n",
       "      <th>84274</th>\n",
       "      <td>0_1398</td>\n",
       "      <td>2023-02-28 23:58:30.792755</td>\n",
       "      <td>s_348435</td>\n",
       "      <td>c_3575</td>\n",
       "    </tr>\n",
       "    <tr>\n",
       "      <th>550455</th>\n",
       "      <td>0_1547</td>\n",
       "      <td>2023-02-28 23:58:00.107815</td>\n",
       "      <td>s_348447</td>\n",
       "      <td>c_4848</td>\n",
       "    </tr>\n",
       "    <tr>\n",
       "      <th>130172</th>\n",
       "      <td>1_695</td>\n",
       "      <td>2023-02-28 23:53:18.929676</td>\n",
       "      <td>s_348446</td>\n",
       "      <td>c_488</td>\n",
       "    </tr>\n",
       "    <tr>\n",
       "      <th>588183</th>\n",
       "      <td>2_37</td>\n",
       "      <td>2023-02-28 23:51:29.318531</td>\n",
       "      <td>s_348445</td>\n",
       "      <td>c_50</td>\n",
       "    </tr>\n",
       "    <tr>\n",
       "      <th>184649</th>\n",
       "      <td>1_508</td>\n",
       "      <td>2023-02-28 23:49:03.148402</td>\n",
       "      <td>s_348444</td>\n",
       "      <td>c_3573</td>\n",
       "    </tr>\n",
       "    <tr>\n",
       "      <th>...</th>\n",
       "      <td>...</td>\n",
       "      <td>...</td>\n",
       "      <td>...</td>\n",
       "      <td>...</td>\n",
       "    </tr>\n",
       "    <tr>\n",
       "      <th>439073</th>\n",
       "      <td>0_1358</td>\n",
       "      <td>2021-03-01 00:05:18.801198</td>\n",
       "      <td>s_5</td>\n",
       "      <td>c_2033</td>\n",
       "    </tr>\n",
       "    <tr>\n",
       "      <th>488300</th>\n",
       "      <td>0_1458</td>\n",
       "      <td>2021-03-01 00:04:54.559692</td>\n",
       "      <td>s_4</td>\n",
       "      <td>c_7912</td>\n",
       "    </tr>\n",
       "    <tr>\n",
       "      <th>462702</th>\n",
       "      <td>0_1352</td>\n",
       "      <td>2021-03-01 00:02:38.311413</td>\n",
       "      <td>s_3</td>\n",
       "      <td>c_580</td>\n",
       "    </tr>\n",
       "    <tr>\n",
       "      <th>428477</th>\n",
       "      <td>0_1390</td>\n",
       "      <td>2021-03-01 00:02:26.047414</td>\n",
       "      <td>s_2</td>\n",
       "      <td>c_664</td>\n",
       "    </tr>\n",
       "    <tr>\n",
       "      <th>480642</th>\n",
       "      <td>0_1259</td>\n",
       "      <td>2021-03-01 00:01:07.843138</td>\n",
       "      <td>s_1</td>\n",
       "      <td>c_329</td>\n",
       "    </tr>\n",
       "  </tbody>\n",
       "</table>\n",
       "<p>679332 rows × 4 columns</p>\n",
       "</div>"
      ],
      "text/plain": [
       "       id_prod                       date session_id client_id\n",
       "84274   0_1398 2023-02-28 23:58:30.792755   s_348435    c_3575\n",
       "550455  0_1547 2023-02-28 23:58:00.107815   s_348447    c_4848\n",
       "130172   1_695 2023-02-28 23:53:18.929676   s_348446     c_488\n",
       "588183    2_37 2023-02-28 23:51:29.318531   s_348445      c_50\n",
       "184649   1_508 2023-02-28 23:49:03.148402   s_348444    c_3573\n",
       "...        ...                        ...        ...       ...\n",
       "439073  0_1358 2021-03-01 00:05:18.801198        s_5    c_2033\n",
       "488300  0_1458 2021-03-01 00:04:54.559692        s_4    c_7912\n",
       "462702  0_1352 2021-03-01 00:02:38.311413        s_3     c_580\n",
       "428477  0_1390 2021-03-01 00:02:26.047414        s_2     c_664\n",
       "480642  0_1259 2021-03-01 00:01:07.843138        s_1     c_329\n",
       "\n",
       "[679332 rows x 4 columns]"
      ]
     },
     "execution_count": 20,
     "metadata": {},
     "output_type": "execute_result"
    }
   ],
   "source": [
    "# Vérification des modifications\n",
    "df_transactions.sort_values(\"date\", ascending=False)"
   ]
  },
  {
   "cell_type": "code",
   "execution_count": 21,
   "id": "99256e49",
   "metadata": {},
   "outputs": [
    {
     "name": "stdout",
     "output_type": "stream",
     "text": [
      "<class 'pandas.core.frame.DataFrame'>\n",
      "Int64Index: 679332 entries, 0 to 679531\n",
      "Data columns (total 4 columns):\n",
      " #   Column      Non-Null Count   Dtype         \n",
      "---  ------      --------------   -----         \n",
      " 0   id_prod     679332 non-null  object        \n",
      " 1   date        679332 non-null  datetime64[ns]\n",
      " 2   session_id  679332 non-null  object        \n",
      " 3   client_id   679332 non-null  object        \n",
      "dtypes: datetime64[ns](1), object(3)\n",
      "memory usage: 25.9+ MB\n"
     ]
    }
   ],
   "source": [
    "df_transactions.info()"
   ]
  },
  {
   "cell_type": "markdown",
   "id": "7c80c345",
   "metadata": {},
   "source": [
    "- Le résultat passe de 679 532 à 679 332 lignes (donc les 200 ont bien été supprimées et n'apparaissent plus)\n",
    "- Le Dtype est bien passé en format datetime"
   ]
  },
  {
   "cell_type": "markdown",
   "id": "1ab94564",
   "metadata": {},
   "source": [
    " ## <a class=\"anchor\" id=\"section_1_4\">Products</a>  - Nettoyage complémentaire du dataframe products"
   ]
  },
  {
   "cell_type": "code",
   "execution_count": 22,
   "id": "ac0c6de6",
   "metadata": {},
   "outputs": [],
   "source": [
    "# Suppression de la valeur \"-1\" qui correspondait aux transactions de test\n",
    "df_products.drop(df_products[(df_products[\"id_prod\"] == \"T_0\")].index, inplace=True)"
   ]
  },
  {
   "cell_type": "code",
   "execution_count": 23,
   "id": "2ebbdc89",
   "metadata": {
    "scrolled": true
   },
   "outputs": [
    {
     "data": {
      "text/html": [
       "<div>\n",
       "<style scoped>\n",
       "    .dataframe tbody tr th:only-of-type {\n",
       "        vertical-align: middle;\n",
       "    }\n",
       "\n",
       "    .dataframe tbody tr th {\n",
       "        vertical-align: top;\n",
       "    }\n",
       "\n",
       "    .dataframe thead th {\n",
       "        text-align: right;\n",
       "    }\n",
       "</style>\n",
       "<table border=\"1\" class=\"dataframe\">\n",
       "  <thead>\n",
       "    <tr style=\"text-align: right;\">\n",
       "      <th></th>\n",
       "      <th>price</th>\n",
       "    </tr>\n",
       "  </thead>\n",
       "  <tbody>\n",
       "    <tr>\n",
       "      <th>count</th>\n",
       "      <td>3286.00</td>\n",
       "    </tr>\n",
       "    <tr>\n",
       "      <th>mean</th>\n",
       "      <td>21.86</td>\n",
       "    </tr>\n",
       "    <tr>\n",
       "      <th>std</th>\n",
       "      <td>29.85</td>\n",
       "    </tr>\n",
       "    <tr>\n",
       "      <th>min</th>\n",
       "      <td>0.62</td>\n",
       "    </tr>\n",
       "    <tr>\n",
       "      <th>25%</th>\n",
       "      <td>6.99</td>\n",
       "    </tr>\n",
       "    <tr>\n",
       "      <th>50%</th>\n",
       "      <td>13.07</td>\n",
       "    </tr>\n",
       "    <tr>\n",
       "      <th>75%</th>\n",
       "      <td>22.99</td>\n",
       "    </tr>\n",
       "    <tr>\n",
       "      <th>max</th>\n",
       "      <td>300.00</td>\n",
       "    </tr>\n",
       "  </tbody>\n",
       "</table>\n",
       "</div>"
      ],
      "text/plain": [
       "         price\n",
       "count  3286.00\n",
       "mean     21.86\n",
       "std      29.85\n",
       "min       0.62\n",
       "25%       6.99\n",
       "50%      13.07\n",
       "75%      22.99\n",
       "max     300.00"
      ]
     },
     "execution_count": 23,
     "metadata": {},
     "output_type": "execute_result"
    }
   ],
   "source": [
    "# Vérification de la suppression\n",
    "df_products[[\"price\"]].describe()"
   ]
  },
  {
   "cell_type": "markdown",
   "id": "db65a662",
   "metadata": {},
   "source": [
    " ## <a class=\"anchor\" id=\"section_1_5\">Customers</a>  - Nettoyage complémentaire du dataframe customers"
   ]
  },
  {
   "cell_type": "code",
   "execution_count": 24,
   "id": "57746d0f",
   "metadata": {},
   "outputs": [],
   "source": [
    "# Suppression des clients tests qui ont servis aux transactions de test\n",
    "df_customers.drop(df_customers[(df_customers['client_id'] == 'ct_0')].index, inplace=True)\n",
    "df_customers.drop(df_customers[(df_customers['client_id'] == 'ct_1')].index, inplace=True)"
   ]
  },
  {
   "cell_type": "code",
   "execution_count": 25,
   "id": "759371d2",
   "metadata": {},
   "outputs": [],
   "source": [
    "# Ajout d'une colonne âge\n",
    "current_year = datetime.now().strftime('%Y')\n",
    "\n",
    "df_customers['age'] = int(current_year) - df_customers['birth']"
   ]
  },
  {
   "cell_type": "markdown",
   "id": "b1d964e1",
   "metadata": {},
   "source": [
    "# Jointures"
   ]
  },
  {
   "cell_type": "markdown",
   "id": "58ce5fea",
   "metadata": {},
   "source": [
    " ## <a class=\"anchor\" id=\"section_2_1\">df_transactions et df_products</a> - Première jointure"
   ]
  },
  {
   "cell_type": "code",
   "execution_count": 26,
   "id": "2123ce54",
   "metadata": {},
   "outputs": [],
   "source": [
    "# la colonne \"id_prod\" va servir de clé pour notre jointure externe à gauche pour conserver toutes nos transactions\n",
    "df_transactions_products = pd.merge(df_transactions, df_products, on='id_prod', how='left', indicator=True)"
   ]
  },
  {
   "cell_type": "code",
   "execution_count": 27,
   "id": "9424caba",
   "metadata": {
    "scrolled": false
   },
   "outputs": [
    {
     "name": "stdout",
     "output_type": "stream",
     "text": [
      "<class 'pandas.core.frame.DataFrame'>\n",
      "Int64Index: 221 entries, 2633 to 677797\n",
      "Data columns (total 7 columns):\n",
      " #   Column      Non-Null Count  Dtype         \n",
      "---  ------      --------------  -----         \n",
      " 0   id_prod     221 non-null    object        \n",
      " 1   date        221 non-null    datetime64[ns]\n",
      " 2   session_id  221 non-null    object        \n",
      " 3   client_id   221 non-null    object        \n",
      " 4   price       0 non-null      float64       \n",
      " 5   categ       0 non-null      float64       \n",
      " 6   _merge      221 non-null    category      \n",
      "dtypes: category(1), datetime64[ns](1), float64(2), object(3)\n",
      "memory usage: 12.4+ KB\n"
     ]
    },
    {
     "data": {
      "text/html": [
       "<div>\n",
       "<style scoped>\n",
       "    .dataframe tbody tr th:only-of-type {\n",
       "        vertical-align: middle;\n",
       "    }\n",
       "\n",
       "    .dataframe tbody tr th {\n",
       "        vertical-align: top;\n",
       "    }\n",
       "\n",
       "    .dataframe thead th {\n",
       "        text-align: right;\n",
       "    }\n",
       "</style>\n",
       "<table border=\"1\" class=\"dataframe\">\n",
       "  <thead>\n",
       "    <tr style=\"text-align: right;\">\n",
       "      <th></th>\n",
       "      <th>id_prod</th>\n",
       "      <th>date</th>\n",
       "      <th>session_id</th>\n",
       "      <th>client_id</th>\n",
       "      <th>price</th>\n",
       "      <th>categ</th>\n",
       "      <th>_merge</th>\n",
       "    </tr>\n",
       "  </thead>\n",
       "  <tbody>\n",
       "    <tr>\n",
       "      <th>2633</th>\n",
       "      <td>0_2245</td>\n",
       "      <td>2022-09-23 07:22:38.636773</td>\n",
       "      <td>s_272266</td>\n",
       "      <td>c_4746</td>\n",
       "      <td>NaN</td>\n",
       "      <td>NaN</td>\n",
       "      <td>left_only</td>\n",
       "    </tr>\n",
       "    <tr>\n",
       "      <th>10103</th>\n",
       "      <td>0_2245</td>\n",
       "      <td>2022-07-23 09:24:14.133889</td>\n",
       "      <td>s_242482</td>\n",
       "      <td>c_6713</td>\n",
       "      <td>NaN</td>\n",
       "      <td>NaN</td>\n",
       "      <td>left_only</td>\n",
       "    </tr>\n",
       "    <tr>\n",
       "      <th>11723</th>\n",
       "      <td>0_2245</td>\n",
       "      <td>2022-12-03 03:26:35.696673</td>\n",
       "      <td>s_306338</td>\n",
       "      <td>c_5108</td>\n",
       "      <td>NaN</td>\n",
       "      <td>NaN</td>\n",
       "      <td>left_only</td>\n",
       "    </tr>\n",
       "    <tr>\n",
       "      <th>15670</th>\n",
       "      <td>0_2245</td>\n",
       "      <td>2021-08-16 11:33:25.481411</td>\n",
       "      <td>s_76493</td>\n",
       "      <td>c_1391</td>\n",
       "      <td>NaN</td>\n",
       "      <td>NaN</td>\n",
       "      <td>left_only</td>\n",
       "    </tr>\n",
       "    <tr>\n",
       "      <th>16372</th>\n",
       "      <td>0_2245</td>\n",
       "      <td>2022-07-16 05:53:01.627491</td>\n",
       "      <td>s_239078</td>\n",
       "      <td>c_7954</td>\n",
       "      <td>NaN</td>\n",
       "      <td>NaN</td>\n",
       "      <td>left_only</td>\n",
       "    </tr>\n",
       "  </tbody>\n",
       "</table>\n",
       "</div>"
      ],
      "text/plain": [
       "      id_prod                       date session_id client_id  price  categ  \\\n",
       "2633   0_2245 2022-09-23 07:22:38.636773   s_272266    c_4746    NaN    NaN   \n",
       "10103  0_2245 2022-07-23 09:24:14.133889   s_242482    c_6713    NaN    NaN   \n",
       "11723  0_2245 2022-12-03 03:26:35.696673   s_306338    c_5108    NaN    NaN   \n",
       "15670  0_2245 2021-08-16 11:33:25.481411    s_76493    c_1391    NaN    NaN   \n",
       "16372  0_2245 2022-07-16 05:53:01.627491   s_239078    c_7954    NaN    NaN   \n",
       "\n",
       "          _merge  \n",
       "2633   left_only  \n",
       "10103  left_only  \n",
       "11723  left_only  \n",
       "15670  left_only  \n",
       "16372  left_only  "
      ]
     },
     "metadata": {},
     "output_type": "display_data"
    }
   ],
   "source": [
    "# On va créer une fonction qui permet de tester si la jointure a bien été effectuée.\n",
    "# On va créer un data frame temporaire pour rechercher une valeure qui n'est pas égale à \"both\" pour \"_merge\"\n",
    "# On récupère les infos\n",
    "# Si il y a des résultats différents de \"both\", ils seront affichés dans un head()\n",
    "\n",
    "def test_jointure(df_transactions_products):\n",
    "    df_test_transactions_products = df_transactions_products[df_transactions_products['_merge'] != 'both']\n",
    "    df_test_transactions_products.info()\n",
    "    \n",
    "    if(df_test_transactions_products.shape[0] > 0):\n",
    "        display(df_test_transactions_products.head())\n",
    "        \n",
    "test_jointure(df_transactions_products)"
   ]
  },
  {
   "cell_type": "markdown",
   "id": "eaebe125",
   "metadata": {},
   "source": [
    "<b>On voit qu'il y a des valeurs manquantes dans les colonnes \"price\" et \"categ\"</b>"
   ]
  },
  {
   "cell_type": "code",
   "execution_count": 28,
   "id": "79f6010b",
   "metadata": {},
   "outputs": [],
   "source": [
    "# Création d'un df pour stocker les valeurs manquantes et les analyser\n",
    "df_transactions_products_nan = df_transactions_products[df_transactions_products['price'].isnull()]"
   ]
  },
  {
   "cell_type": "code",
   "execution_count": 29,
   "id": "c7733b32",
   "metadata": {},
   "outputs": [
    {
     "data": {
      "text/html": [
       "<div>\n",
       "<style scoped>\n",
       "    .dataframe tbody tr th:only-of-type {\n",
       "        vertical-align: middle;\n",
       "    }\n",
       "\n",
       "    .dataframe tbody tr th {\n",
       "        vertical-align: top;\n",
       "    }\n",
       "\n",
       "    .dataframe thead th {\n",
       "        text-align: right;\n",
       "    }\n",
       "</style>\n",
       "<table border=\"1\" class=\"dataframe\">\n",
       "  <thead>\n",
       "    <tr style=\"text-align: right;\">\n",
       "      <th></th>\n",
       "      <th>id_prod</th>\n",
       "      <th>date</th>\n",
       "      <th>session_id</th>\n",
       "      <th>client_id</th>\n",
       "      <th>price</th>\n",
       "      <th>categ</th>\n",
       "      <th>_merge</th>\n",
       "    </tr>\n",
       "  </thead>\n",
       "  <tbody>\n",
       "    <tr>\n",
       "      <th>2633</th>\n",
       "      <td>0_2245</td>\n",
       "      <td>2022-09-23 07:22:38.636773</td>\n",
       "      <td>s_272266</td>\n",
       "      <td>c_4746</td>\n",
       "      <td>NaN</td>\n",
       "      <td>NaN</td>\n",
       "      <td>left_only</td>\n",
       "    </tr>\n",
       "    <tr>\n",
       "      <th>10103</th>\n",
       "      <td>0_2245</td>\n",
       "      <td>2022-07-23 09:24:14.133889</td>\n",
       "      <td>s_242482</td>\n",
       "      <td>c_6713</td>\n",
       "      <td>NaN</td>\n",
       "      <td>NaN</td>\n",
       "      <td>left_only</td>\n",
       "    </tr>\n",
       "    <tr>\n",
       "      <th>11723</th>\n",
       "      <td>0_2245</td>\n",
       "      <td>2022-12-03 03:26:35.696673</td>\n",
       "      <td>s_306338</td>\n",
       "      <td>c_5108</td>\n",
       "      <td>NaN</td>\n",
       "      <td>NaN</td>\n",
       "      <td>left_only</td>\n",
       "    </tr>\n",
       "    <tr>\n",
       "      <th>15670</th>\n",
       "      <td>0_2245</td>\n",
       "      <td>2021-08-16 11:33:25.481411</td>\n",
       "      <td>s_76493</td>\n",
       "      <td>c_1391</td>\n",
       "      <td>NaN</td>\n",
       "      <td>NaN</td>\n",
       "      <td>left_only</td>\n",
       "    </tr>\n",
       "    <tr>\n",
       "      <th>16372</th>\n",
       "      <td>0_2245</td>\n",
       "      <td>2022-07-16 05:53:01.627491</td>\n",
       "      <td>s_239078</td>\n",
       "      <td>c_7954</td>\n",
       "      <td>NaN</td>\n",
       "      <td>NaN</td>\n",
       "      <td>left_only</td>\n",
       "    </tr>\n",
       "  </tbody>\n",
       "</table>\n",
       "</div>"
      ],
      "text/plain": [
       "      id_prod                       date session_id client_id  price  categ  \\\n",
       "2633   0_2245 2022-09-23 07:22:38.636773   s_272266    c_4746    NaN    NaN   \n",
       "10103  0_2245 2022-07-23 09:24:14.133889   s_242482    c_6713    NaN    NaN   \n",
       "11723  0_2245 2022-12-03 03:26:35.696673   s_306338    c_5108    NaN    NaN   \n",
       "15670  0_2245 2021-08-16 11:33:25.481411    s_76493    c_1391    NaN    NaN   \n",
       "16372  0_2245 2022-07-16 05:53:01.627491   s_239078    c_7954    NaN    NaN   \n",
       "\n",
       "          _merge  \n",
       "2633   left_only  \n",
       "10103  left_only  \n",
       "11723  left_only  \n",
       "15670  left_only  \n",
       "16372  left_only  "
      ]
     },
     "metadata": {},
     "output_type": "display_data"
    },
    {
     "data": {
      "text/plain": [
       "(221, 7)"
      ]
     },
     "execution_count": 29,
     "metadata": {},
     "output_type": "execute_result"
    }
   ],
   "source": [
    "# Aperçu du nouveau df \"df_final_nan\"\n",
    "display(df_transactions_products_nan.head())\n",
    "df_transactions_products_nan.shape"
   ]
  },
  {
   "cell_type": "markdown",
   "id": "484a6e58",
   "metadata": {},
   "source": [
    "<b>Premier aperçu : Toutes les valeurs manquantes ont possiblement le même \"id_prod\", il faut creuser encore un peu plus.</b>"
   ]
  },
  {
   "cell_type": "code",
   "execution_count": 30,
   "id": "d7c8eb9d",
   "metadata": {},
   "outputs": [
    {
     "data": {
      "text/plain": [
       "array(['0_2245'], dtype=object)"
      ]
     },
     "execution_count": 30,
     "metadata": {},
     "output_type": "execute_result"
    }
   ],
   "source": [
    "# Vérification supplémentaire concernant les valeurs manquantes ci-dessus\n",
    "df_transactions_products_nan['id_prod'].unique()"
   ]
  },
  {
   "cell_type": "code",
   "execution_count": 31,
   "id": "9a9d47e8",
   "metadata": {},
   "outputs": [
    {
     "data": {
      "text/html": [
       "<div>\n",
       "<style scoped>\n",
       "    .dataframe tbody tr th:only-of-type {\n",
       "        vertical-align: middle;\n",
       "    }\n",
       "\n",
       "    .dataframe tbody tr th {\n",
       "        vertical-align: top;\n",
       "    }\n",
       "\n",
       "    .dataframe thead th {\n",
       "        text-align: right;\n",
       "    }\n",
       "</style>\n",
       "<table border=\"1\" class=\"dataframe\">\n",
       "  <thead>\n",
       "    <tr style=\"text-align: right;\">\n",
       "      <th></th>\n",
       "      <th>id_prod</th>\n",
       "      <th>price</th>\n",
       "      <th>categ</th>\n",
       "    </tr>\n",
       "  </thead>\n",
       "  <tbody>\n",
       "  </tbody>\n",
       "</table>\n",
       "</div>"
      ],
      "text/plain": [
       "Empty DataFrame\n",
       "Columns: [id_prod, price, categ]\n",
       "Index: []"
      ]
     },
     "execution_count": 31,
     "metadata": {},
     "output_type": "execute_result"
    }
   ],
   "source": [
    "# Vérification au niveau du df \"products\"\n",
    "df_products.loc[df_products['id_prod'] == '0_2245', :]"
   ]
  },
  {
   "cell_type": "markdown",
   "id": "6a87ec35",
   "metadata": {},
   "source": [
    "- Le produit '0_2245' n'apparaît pas également dans le df des \"products\". \n",
    "- Les données de l'article ont probablement été perdues. Mais il possède 221 transactions, donc il vaut mieux le garder au cas où.\n",
    "- Le \"0\" peut faire référence à la catégorie 0, cette information peut être utilisée pour modifier les données dans le bon sens\n",
    "- Concernant le prix, une moyenne est possible de la catégorie 0, puis attribuer le résultat de cette moyenne au produit \"0_2245\""
   ]
  },
  {
   "cell_type": "code",
   "execution_count": 32,
   "id": "4c70c590",
   "metadata": {},
   "outputs": [],
   "source": [
    "# On remplace le \"NaN\" de la colonne \"categ\" par 0 suite à ces déductions\n",
    "df_transactions_products[\"categ\"].fillna(0, inplace=True)"
   ]
  },
  {
   "cell_type": "code",
   "execution_count": 33,
   "id": "97e0dd97",
   "metadata": {},
   "outputs": [
    {
     "name": "stdout",
     "output_type": "stream",
     "text": [
      "La moyenne du prix de l'article 02245, de la catégorie 0 est de 10.64 €\n"
     ]
    }
   ],
   "source": [
    "# On calcule la moyenne de la colonne \"price\" pour la catégorie 0\n",
    "estimation_prix_02245 = round(df_transactions_products.loc[df_transactions_products[\"categ\"] == 0][\"price\"].mean(),2)\n",
    "\n",
    "print(f\"La moyenne du prix de l'article 02245, de la catégorie 0 est de {estimation_prix_02245} €\")"
   ]
  },
  {
   "cell_type": "code",
   "execution_count": 34,
   "id": "d344c986",
   "metadata": {},
   "outputs": [],
   "source": [
    "# On remplace le \"NaN\" de la colonne \"price\" par 10.64 suite à ces déductions\n",
    "df_transactions_products[\"price\"].fillna(10.64, inplace=True)"
   ]
  },
  {
   "cell_type": "code",
   "execution_count": 35,
   "id": "982611d9",
   "metadata": {},
   "outputs": [
    {
     "data": {
      "text/html": [
       "<div>\n",
       "<style scoped>\n",
       "    .dataframe tbody tr th:only-of-type {\n",
       "        vertical-align: middle;\n",
       "    }\n",
       "\n",
       "    .dataframe tbody tr th {\n",
       "        vertical-align: top;\n",
       "    }\n",
       "\n",
       "    .dataframe thead th {\n",
       "        text-align: right;\n",
       "    }\n",
       "</style>\n",
       "<table border=\"1\" class=\"dataframe\">\n",
       "  <thead>\n",
       "    <tr style=\"text-align: right;\">\n",
       "      <th></th>\n",
       "      <th>id_prod</th>\n",
       "      <th>date</th>\n",
       "      <th>session_id</th>\n",
       "      <th>client_id</th>\n",
       "      <th>price</th>\n",
       "      <th>categ</th>\n",
       "      <th>_merge</th>\n",
       "    </tr>\n",
       "  </thead>\n",
       "  <tbody>\n",
       "    <tr>\n",
       "      <th>2633</th>\n",
       "      <td>0_2245</td>\n",
       "      <td>2022-09-23 07:22:38.636773</td>\n",
       "      <td>s_272266</td>\n",
       "      <td>c_4746</td>\n",
       "      <td>10.64</td>\n",
       "      <td>0.0</td>\n",
       "      <td>left_only</td>\n",
       "    </tr>\n",
       "    <tr>\n",
       "      <th>10103</th>\n",
       "      <td>0_2245</td>\n",
       "      <td>2022-07-23 09:24:14.133889</td>\n",
       "      <td>s_242482</td>\n",
       "      <td>c_6713</td>\n",
       "      <td>10.64</td>\n",
       "      <td>0.0</td>\n",
       "      <td>left_only</td>\n",
       "    </tr>\n",
       "    <tr>\n",
       "      <th>11723</th>\n",
       "      <td>0_2245</td>\n",
       "      <td>2022-12-03 03:26:35.696673</td>\n",
       "      <td>s_306338</td>\n",
       "      <td>c_5108</td>\n",
       "      <td>10.64</td>\n",
       "      <td>0.0</td>\n",
       "      <td>left_only</td>\n",
       "    </tr>\n",
       "    <tr>\n",
       "      <th>15670</th>\n",
       "      <td>0_2245</td>\n",
       "      <td>2021-08-16 11:33:25.481411</td>\n",
       "      <td>s_76493</td>\n",
       "      <td>c_1391</td>\n",
       "      <td>10.64</td>\n",
       "      <td>0.0</td>\n",
       "      <td>left_only</td>\n",
       "    </tr>\n",
       "    <tr>\n",
       "      <th>16372</th>\n",
       "      <td>0_2245</td>\n",
       "      <td>2022-07-16 05:53:01.627491</td>\n",
       "      <td>s_239078</td>\n",
       "      <td>c_7954</td>\n",
       "      <td>10.64</td>\n",
       "      <td>0.0</td>\n",
       "      <td>left_only</td>\n",
       "    </tr>\n",
       "    <tr>\n",
       "      <th>...</th>\n",
       "      <td>...</td>\n",
       "      <td>...</td>\n",
       "      <td>...</td>\n",
       "      <td>...</td>\n",
       "      <td>...</td>\n",
       "      <td>...</td>\n",
       "      <td>...</td>\n",
       "    </tr>\n",
       "    <tr>\n",
       "      <th>669533</th>\n",
       "      <td>0_2245</td>\n",
       "      <td>2021-08-25 09:06:03.504061</td>\n",
       "      <td>s_80395</td>\n",
       "      <td>c_131</td>\n",
       "      <td>10.64</td>\n",
       "      <td>0.0</td>\n",
       "      <td>left_only</td>\n",
       "    </tr>\n",
       "    <tr>\n",
       "      <th>670484</th>\n",
       "      <td>0_2245</td>\n",
       "      <td>2022-03-06 19:59:19.462288</td>\n",
       "      <td>s_175311</td>\n",
       "      <td>c_4167</td>\n",
       "      <td>10.64</td>\n",
       "      <td>0.0</td>\n",
       "      <td>left_only</td>\n",
       "    </tr>\n",
       "    <tr>\n",
       "      <th>671088</th>\n",
       "      <td>0_2245</td>\n",
       "      <td>2022-05-16 11:35:20.319501</td>\n",
       "      <td>s_209381</td>\n",
       "      <td>c_4453</td>\n",
       "      <td>10.64</td>\n",
       "      <td>0.0</td>\n",
       "      <td>left_only</td>\n",
       "    </tr>\n",
       "    <tr>\n",
       "      <th>675480</th>\n",
       "      <td>0_2245</td>\n",
       "      <td>2022-02-11 09:05:43.952857</td>\n",
       "      <td>s_163405</td>\n",
       "      <td>c_1098</td>\n",
       "      <td>10.64</td>\n",
       "      <td>0.0</td>\n",
       "      <td>left_only</td>\n",
       "    </tr>\n",
       "    <tr>\n",
       "      <th>677797</th>\n",
       "      <td>0_2245</td>\n",
       "      <td>2021-12-14 22:34:54.589921</td>\n",
       "      <td>s_134446</td>\n",
       "      <td>c_4854</td>\n",
       "      <td>10.64</td>\n",
       "      <td>0.0</td>\n",
       "      <td>left_only</td>\n",
       "    </tr>\n",
       "  </tbody>\n",
       "</table>\n",
       "<p>221 rows × 7 columns</p>\n",
       "</div>"
      ],
      "text/plain": [
       "       id_prod                       date session_id client_id  price  categ  \\\n",
       "2633    0_2245 2022-09-23 07:22:38.636773   s_272266    c_4746  10.64    0.0   \n",
       "10103   0_2245 2022-07-23 09:24:14.133889   s_242482    c_6713  10.64    0.0   \n",
       "11723   0_2245 2022-12-03 03:26:35.696673   s_306338    c_5108  10.64    0.0   \n",
       "15670   0_2245 2021-08-16 11:33:25.481411    s_76493    c_1391  10.64    0.0   \n",
       "16372   0_2245 2022-07-16 05:53:01.627491   s_239078    c_7954  10.64    0.0   \n",
       "...        ...                        ...        ...       ...    ...    ...   \n",
       "669533  0_2245 2021-08-25 09:06:03.504061    s_80395     c_131  10.64    0.0   \n",
       "670484  0_2245 2022-03-06 19:59:19.462288   s_175311    c_4167  10.64    0.0   \n",
       "671088  0_2245 2022-05-16 11:35:20.319501   s_209381    c_4453  10.64    0.0   \n",
       "675480  0_2245 2022-02-11 09:05:43.952857   s_163405    c_1098  10.64    0.0   \n",
       "677797  0_2245 2021-12-14 22:34:54.589921   s_134446    c_4854  10.64    0.0   \n",
       "\n",
       "           _merge  \n",
       "2633    left_only  \n",
       "10103   left_only  \n",
       "11723   left_only  \n",
       "15670   left_only  \n",
       "16372   left_only  \n",
       "...           ...  \n",
       "669533  left_only  \n",
       "670484  left_only  \n",
       "671088  left_only  \n",
       "675480  left_only  \n",
       "677797  left_only  \n",
       "\n",
       "[221 rows x 7 columns]"
      ]
     },
     "execution_count": 35,
     "metadata": {},
     "output_type": "execute_result"
    }
   ],
   "source": [
    "# Vérification de ces deux modifications\n",
    "df_transactions_products.loc[df_transactions_products[\"id_prod\"] == \"0_2245\", :]"
   ]
  },
  {
   "cell_type": "code",
   "execution_count": 36,
   "id": "10abb6ab",
   "metadata": {
    "scrolled": true
   },
   "outputs": [
    {
     "name": "stdout",
     "output_type": "stream",
     "text": [
      "<class 'pandas.core.frame.DataFrame'>\n",
      "Int64Index: 679332 entries, 0 to 679331\n",
      "Data columns (total 7 columns):\n",
      " #   Column      Non-Null Count   Dtype         \n",
      "---  ------      --------------   -----         \n",
      " 0   id_prod     679332 non-null  object        \n",
      " 1   date        679332 non-null  datetime64[ns]\n",
      " 2   session_id  679332 non-null  object        \n",
      " 3   client_id   679332 non-null  object        \n",
      " 4   price       679332 non-null  float64       \n",
      " 5   categ       679332 non-null  float64       \n",
      " 6   _merge      679332 non-null  category      \n",
      "dtypes: category(1), datetime64[ns](1), float64(2), object(3)\n",
      "memory usage: 36.9+ MB\n"
     ]
    }
   ],
   "source": [
    "# Infos supplémentaires pour vérifier la totalité des valeurs\n",
    "df_transactions_products.info()"
   ]
  },
  {
   "cell_type": "code",
   "execution_count": 37,
   "id": "07105fb4",
   "metadata": {},
   "outputs": [],
   "source": [
    "# Suppression de la colonne \"_merge\" car toutes les vérifications ont été effectuées\n",
    "df_transactions_products = df_transactions_products.drop('_merge', axis=1)"
   ]
  },
  {
   "cell_type": "markdown",
   "id": "8dd35381",
   "metadata": {},
   "source": [
    " ## <a class=\"anchor\" id=\"section_2_2\">df_transactions_products et df_customers</a> - Deuxième jointure pour créer le dataframe final"
   ]
  },
  {
   "cell_type": "code",
   "execution_count": 38,
   "id": "b665eb64",
   "metadata": {},
   "outputs": [],
   "source": [
    "# Jointure entre le df_final et df_customers. On va utiliser la colonne \"client_id\" tout en conservant les lignes des deux df\n",
    "df_final = pd.merge(df_transactions_products, df_customers, on='client_id', indicator=True)"
   ]
  },
  {
   "cell_type": "code",
   "execution_count": 39,
   "id": "6cff3834",
   "metadata": {},
   "outputs": [
    {
     "name": "stdout",
     "output_type": "stream",
     "text": [
      "<class 'pandas.core.frame.DataFrame'>\n",
      "Int64Index: 0 entries\n",
      "Data columns (total 10 columns):\n",
      " #   Column      Non-Null Count  Dtype         \n",
      "---  ------      --------------  -----         \n",
      " 0   id_prod     0 non-null      object        \n",
      " 1   date        0 non-null      datetime64[ns]\n",
      " 2   session_id  0 non-null      object        \n",
      " 3   client_id   0 non-null      object        \n",
      " 4   price       0 non-null      float64       \n",
      " 5   categ       0 non-null      float64       \n",
      " 6   sex         0 non-null      object        \n",
      " 7   birth       0 non-null      int64         \n",
      " 8   age         0 non-null      int64         \n",
      " 9   _merge      0 non-null      category      \n",
      "dtypes: category(1), datetime64[ns](1), float64(2), int64(2), object(4)\n",
      "memory usage: 132.0+ bytes\n"
     ]
    }
   ],
   "source": [
    "# Appel de la fonction test_jointure() pour vérifier sur la jointure s'est bien passée\n",
    "test_jointure(df_final)"
   ]
  },
  {
   "cell_type": "code",
   "execution_count": 40,
   "id": "4c4b42d1",
   "metadata": {
    "scrolled": false
   },
   "outputs": [
    {
     "data": {
      "text/html": [
       "<div>\n",
       "<style scoped>\n",
       "    .dataframe tbody tr th:only-of-type {\n",
       "        vertical-align: middle;\n",
       "    }\n",
       "\n",
       "    .dataframe tbody tr th {\n",
       "        vertical-align: top;\n",
       "    }\n",
       "\n",
       "    .dataframe thead th {\n",
       "        text-align: right;\n",
       "    }\n",
       "</style>\n",
       "<table border=\"1\" class=\"dataframe\">\n",
       "  <thead>\n",
       "    <tr style=\"text-align: right;\">\n",
       "      <th></th>\n",
       "      <th>id_prod</th>\n",
       "      <th>date</th>\n",
       "      <th>session_id</th>\n",
       "      <th>client_id</th>\n",
       "      <th>price</th>\n",
       "      <th>categ</th>\n",
       "      <th>sex</th>\n",
       "      <th>birth</th>\n",
       "      <th>age</th>\n",
       "      <th>_merge</th>\n",
       "    </tr>\n",
       "  </thead>\n",
       "  <tbody>\n",
       "    <tr>\n",
       "      <th>0</th>\n",
       "      <td>0_1518</td>\n",
       "      <td>2022-05-20 13:21:29.043970</td>\n",
       "      <td>s_211425</td>\n",
       "      <td>c_103</td>\n",
       "      <td>4.18</td>\n",
       "      <td>0.0</td>\n",
       "      <td>f</td>\n",
       "      <td>1986</td>\n",
       "      <td>36</td>\n",
       "      <td>both</td>\n",
       "    </tr>\n",
       "    <tr>\n",
       "      <th>1</th>\n",
       "      <td>0_1627</td>\n",
       "      <td>2022-06-18 05:55:31.816994</td>\n",
       "      <td>s_225494</td>\n",
       "      <td>c_103</td>\n",
       "      <td>3.99</td>\n",
       "      <td>0.0</td>\n",
       "      <td>f</td>\n",
       "      <td>1986</td>\n",
       "      <td>36</td>\n",
       "      <td>both</td>\n",
       "    </tr>\n",
       "    <tr>\n",
       "      <th>2</th>\n",
       "      <td>0_1104</td>\n",
       "      <td>2023-02-08 17:31:06.898425</td>\n",
       "      <td>s_338755</td>\n",
       "      <td>c_103</td>\n",
       "      <td>13.21</td>\n",
       "      <td>0.0</td>\n",
       "      <td>f</td>\n",
       "      <td>1986</td>\n",
       "      <td>36</td>\n",
       "      <td>both</td>\n",
       "    </tr>\n",
       "    <tr>\n",
       "      <th>3</th>\n",
       "      <td>0_1390</td>\n",
       "      <td>2021-04-20 06:18:39.939761</td>\n",
       "      <td>s_23078</td>\n",
       "      <td>c_103</td>\n",
       "      <td>19.37</td>\n",
       "      <td>0.0</td>\n",
       "      <td>f</td>\n",
       "      <td>1986</td>\n",
       "      <td>36</td>\n",
       "      <td>both</td>\n",
       "    </tr>\n",
       "    <tr>\n",
       "      <th>4</th>\n",
       "      <td>0_1547</td>\n",
       "      <td>2022-03-15 19:54:53.904123</td>\n",
       "      <td>s_179629</td>\n",
       "      <td>c_103</td>\n",
       "      <td>8.99</td>\n",
       "      <td>0.0</td>\n",
       "      <td>f</td>\n",
       "      <td>1986</td>\n",
       "      <td>36</td>\n",
       "      <td>both</td>\n",
       "    </tr>\n",
       "  </tbody>\n",
       "</table>\n",
       "</div>"
      ],
      "text/plain": [
       "  id_prod                       date session_id client_id  price  categ sex  \\\n",
       "0  0_1518 2022-05-20 13:21:29.043970   s_211425     c_103   4.18    0.0   f   \n",
       "1  0_1627 2022-06-18 05:55:31.816994   s_225494     c_103   3.99    0.0   f   \n",
       "2  0_1104 2023-02-08 17:31:06.898425   s_338755     c_103  13.21    0.0   f   \n",
       "3  0_1390 2021-04-20 06:18:39.939761    s_23078     c_103  19.37    0.0   f   \n",
       "4  0_1547 2022-03-15 19:54:53.904123   s_179629     c_103   8.99    0.0   f   \n",
       "\n",
       "   birth  age _merge  \n",
       "0   1986   36   both  \n",
       "1   1986   36   both  \n",
       "2   1986   36   both  \n",
       "3   1986   36   both  \n",
       "4   1986   36   both  "
      ]
     },
     "metadata": {},
     "output_type": "display_data"
    },
    {
     "data": {
      "text/plain": [
       "(679332, 10)"
      ]
     },
     "execution_count": 40,
     "metadata": {},
     "output_type": "execute_result"
    }
   ],
   "source": [
    "# Aperçu de la jointure\n",
    "display(df_final.head())\n",
    "df_final.shape"
   ]
  },
  {
   "cell_type": "code",
   "execution_count": 41,
   "id": "f7389dd1",
   "metadata": {},
   "outputs": [],
   "source": [
    "# Suppression de la colonne \"_merge\" car toutes les vérifications ont été effectuées\n",
    "df_final = df_final.drop('_merge', axis=1)"
   ]
  },
  {
   "cell_type": "code",
   "execution_count": 42,
   "id": "5a3bc286",
   "metadata": {},
   "outputs": [
    {
     "name": "stdout",
     "output_type": "stream",
     "text": [
      "<class 'pandas.core.frame.DataFrame'>\n",
      "Int64Index: 679332 entries, 0 to 679331\n",
      "Data columns (total 9 columns):\n",
      " #   Column      Non-Null Count   Dtype         \n",
      "---  ------      --------------   -----         \n",
      " 0   id_prod     679332 non-null  object        \n",
      " 1   date        679332 non-null  datetime64[ns]\n",
      " 2   session_id  679332 non-null  object        \n",
      " 3   client_id   679332 non-null  object        \n",
      " 4   price       679332 non-null  float64       \n",
      " 5   categ       679332 non-null  float64       \n",
      " 6   sex         679332 non-null  object        \n",
      " 7   birth       679332 non-null  int64         \n",
      " 8   age         679332 non-null  int64         \n",
      "dtypes: datetime64[ns](1), float64(2), int64(2), object(4)\n",
      "memory usage: 51.8+ MB\n"
     ]
    }
   ],
   "source": [
    "df_final.info()"
   ]
  },
  {
   "cell_type": "code",
   "execution_count": 43,
   "id": "1573820b",
   "metadata": {},
   "outputs": [],
   "source": [
    "# Remplacement du Dtype de \"categ\" en \"int64\" au lieu de \"float64\"\n",
    "df_final['categ'] = df_final['categ'].astype('int64')"
   ]
  },
  {
   "cell_type": "code",
   "execution_count": 44,
   "id": "3cf4737e",
   "metadata": {},
   "outputs": [],
   "source": [
    "# Modification de la date pour s'arrêter aux secondes\n",
    "df_final['date'] = df_final['date'].astype('datetime64[s]')"
   ]
  },
  {
   "cell_type": "markdown",
   "id": "64343d1c",
   "metadata": {},
   "source": [
    "# Ajout d'informations"
   ]
  },
  {
   "cell_type": "markdown",
   "id": "e6fbe9e6",
   "metadata": {},
   "source": [
    " ## <a class=\"anchor\" id=\"section_3_1\">Dates de transactions</a> - Ajouts de colonnes pour scinder les dates en année/mois/jour"
   ]
  },
  {
   "cell_type": "code",
   "execution_count": 45,
   "id": "65e7929c",
   "metadata": {},
   "outputs": [],
   "source": [
    "# Création de trois nouvelles colonnes pour analyser plus facilement certaines données par la suite\n",
    "df_final['year'] = df_final['date'].dt.year\n",
    "df_final['month'] = df_final['date'].dt.month\n",
    "df_final['day'] = df_final['date'].dt.day"
   ]
  },
  {
   "cell_type": "code",
   "execution_count": 46,
   "id": "7718c189",
   "metadata": {
    "scrolled": false
   },
   "outputs": [
    {
     "data": {
      "text/html": [
       "<div>\n",
       "<style scoped>\n",
       "    .dataframe tbody tr th:only-of-type {\n",
       "        vertical-align: middle;\n",
       "    }\n",
       "\n",
       "    .dataframe tbody tr th {\n",
       "        vertical-align: top;\n",
       "    }\n",
       "\n",
       "    .dataframe thead th {\n",
       "        text-align: right;\n",
       "    }\n",
       "</style>\n",
       "<table border=\"1\" class=\"dataframe\">\n",
       "  <thead>\n",
       "    <tr style=\"text-align: right;\">\n",
       "      <th></th>\n",
       "      <th>id_prod</th>\n",
       "      <th>date</th>\n",
       "      <th>session_id</th>\n",
       "      <th>client_id</th>\n",
       "      <th>price</th>\n",
       "      <th>categ</th>\n",
       "      <th>sex</th>\n",
       "      <th>birth</th>\n",
       "      <th>age</th>\n",
       "      <th>year</th>\n",
       "      <th>month</th>\n",
       "      <th>day</th>\n",
       "    </tr>\n",
       "  </thead>\n",
       "  <tbody>\n",
       "    <tr>\n",
       "      <th>0</th>\n",
       "      <td>0_1518</td>\n",
       "      <td>2022-05-20 13:21:29</td>\n",
       "      <td>s_211425</td>\n",
       "      <td>c_103</td>\n",
       "      <td>4.18</td>\n",
       "      <td>0</td>\n",
       "      <td>f</td>\n",
       "      <td>1986</td>\n",
       "      <td>36</td>\n",
       "      <td>2022</td>\n",
       "      <td>5</td>\n",
       "      <td>20</td>\n",
       "    </tr>\n",
       "    <tr>\n",
       "      <th>1</th>\n",
       "      <td>0_1627</td>\n",
       "      <td>2022-06-18 05:55:31</td>\n",
       "      <td>s_225494</td>\n",
       "      <td>c_103</td>\n",
       "      <td>3.99</td>\n",
       "      <td>0</td>\n",
       "      <td>f</td>\n",
       "      <td>1986</td>\n",
       "      <td>36</td>\n",
       "      <td>2022</td>\n",
       "      <td>6</td>\n",
       "      <td>18</td>\n",
       "    </tr>\n",
       "    <tr>\n",
       "      <th>2</th>\n",
       "      <td>0_1104</td>\n",
       "      <td>2023-02-08 17:31:06</td>\n",
       "      <td>s_338755</td>\n",
       "      <td>c_103</td>\n",
       "      <td>13.21</td>\n",
       "      <td>0</td>\n",
       "      <td>f</td>\n",
       "      <td>1986</td>\n",
       "      <td>36</td>\n",
       "      <td>2023</td>\n",
       "      <td>2</td>\n",
       "      <td>8</td>\n",
       "    </tr>\n",
       "    <tr>\n",
       "      <th>3</th>\n",
       "      <td>0_1390</td>\n",
       "      <td>2021-04-20 06:18:39</td>\n",
       "      <td>s_23078</td>\n",
       "      <td>c_103</td>\n",
       "      <td>19.37</td>\n",
       "      <td>0</td>\n",
       "      <td>f</td>\n",
       "      <td>1986</td>\n",
       "      <td>36</td>\n",
       "      <td>2021</td>\n",
       "      <td>4</td>\n",
       "      <td>20</td>\n",
       "    </tr>\n",
       "    <tr>\n",
       "      <th>4</th>\n",
       "      <td>0_1547</td>\n",
       "      <td>2022-03-15 19:54:53</td>\n",
       "      <td>s_179629</td>\n",
       "      <td>c_103</td>\n",
       "      <td>8.99</td>\n",
       "      <td>0</td>\n",
       "      <td>f</td>\n",
       "      <td>1986</td>\n",
       "      <td>36</td>\n",
       "      <td>2022</td>\n",
       "      <td>3</td>\n",
       "      <td>15</td>\n",
       "    </tr>\n",
       "  </tbody>\n",
       "</table>\n",
       "</div>"
      ],
      "text/plain": [
       "  id_prod                date session_id client_id  price  categ sex  birth  \\\n",
       "0  0_1518 2022-05-20 13:21:29   s_211425     c_103   4.18      0   f   1986   \n",
       "1  0_1627 2022-06-18 05:55:31   s_225494     c_103   3.99      0   f   1986   \n",
       "2  0_1104 2023-02-08 17:31:06   s_338755     c_103  13.21      0   f   1986   \n",
       "3  0_1390 2021-04-20 06:18:39    s_23078     c_103  19.37      0   f   1986   \n",
       "4  0_1547 2022-03-15 19:54:53   s_179629     c_103   8.99      0   f   1986   \n",
       "\n",
       "   age  year  month  day  \n",
       "0   36  2022      5   20  \n",
       "1   36  2022      6   18  \n",
       "2   36  2023      2    8  \n",
       "3   36  2021      4   20  \n",
       "4   36  2022      3   15  "
      ]
     },
     "metadata": {},
     "output_type": "display_data"
    }
   ],
   "source": [
    "# Vérification de la modification\n",
    "display(df_final.head())"
   ]
  },
  {
   "cell_type": "markdown",
   "id": "80c81515",
   "metadata": {},
   "source": [
    " ## <a class=\"anchor\" id=\"section_3_2\">Discrétisation de l'âge</a> - Ajout d'une colonne d'âge basé sur une discrétisation"
   ]
  },
  {
   "cell_type": "markdown",
   "id": "9f282509",
   "metadata": {},
   "source": [
    "Application de la loi de Sturges pour une répartition de l'âge. Il faut définir une valeur approximative pour le nombre \"k\" en fonction de la taille N de l'échantillon.<br/>\n",
    "[Discrétiser sur combien de classes ?](https://magrit.hypotheses.org/288)"
   ]
  },
  {
   "cell_type": "code",
   "execution_count": 47,
   "id": "4fec5b40",
   "metadata": {},
   "outputs": [
    {
     "data": {
      "text/plain": [
       "(8600,)"
      ]
     },
     "execution_count": 47,
     "metadata": {},
     "output_type": "execute_result"
    }
   ],
   "source": [
    "# Regardons le nombre de clients qui servira en tant que nombre d'observations (N)\n",
    "\n",
    "df_final['client_id'].value_counts().shape"
   ]
  },
  {
   "cell_type": "code",
   "execution_count": 48,
   "id": "416ce61b",
   "metadata": {},
   "outputs": [
    {
     "name": "stdout",
     "output_type": "stream",
     "text": [
      "Le résultat suite à l'aide de la formule de Sturges-Huntsberger est 14.11. \n"
     ]
    }
   ],
   "source": [
    "# Formule de Sturges-Huntsberger : k = 1 + (10 ⁄ 3) × log(N)\n",
    "\n",
    "resultat_formule = 1 + ((10 / 3) * math.log10(8600))\n",
    "print(\"Le résultat suite à l'aide de la formule de Sturges-Huntsberger est {:,.2f}. \".format(resultat_formule))"
   ]
  },
  {
   "cell_type": "code",
   "execution_count": 49,
   "id": "7f9b35fb",
   "metadata": {},
   "outputs": [
    {
     "data": {
      "text/html": [
       "<div>\n",
       "<style scoped>\n",
       "    .dataframe tbody tr th:only-of-type {\n",
       "        vertical-align: middle;\n",
       "    }\n",
       "\n",
       "    .dataframe tbody tr th {\n",
       "        vertical-align: top;\n",
       "    }\n",
       "\n",
       "    .dataframe thead th {\n",
       "        text-align: right;\n",
       "    }\n",
       "</style>\n",
       "<table border=\"1\" class=\"dataframe\">\n",
       "  <thead>\n",
       "    <tr style=\"text-align: right;\">\n",
       "      <th></th>\n",
       "      <th>age</th>\n",
       "    </tr>\n",
       "  </thead>\n",
       "  <tbody>\n",
       "    <tr>\n",
       "      <th>count</th>\n",
       "      <td>679332.00</td>\n",
       "    </tr>\n",
       "    <tr>\n",
       "      <th>mean</th>\n",
       "      <td>44.19</td>\n",
       "    </tr>\n",
       "    <tr>\n",
       "      <th>std</th>\n",
       "      <td>13.57</td>\n",
       "    </tr>\n",
       "    <tr>\n",
       "      <th>min</th>\n",
       "      <td>18.00</td>\n",
       "    </tr>\n",
       "    <tr>\n",
       "      <th>25%</th>\n",
       "      <td>35.00</td>\n",
       "    </tr>\n",
       "    <tr>\n",
       "      <th>50%</th>\n",
       "      <td>42.00</td>\n",
       "    </tr>\n",
       "    <tr>\n",
       "      <th>75%</th>\n",
       "      <td>52.00</td>\n",
       "    </tr>\n",
       "    <tr>\n",
       "      <th>max</th>\n",
       "      <td>93.00</td>\n",
       "    </tr>\n",
       "  </tbody>\n",
       "</table>\n",
       "</div>"
      ],
      "text/plain": [
       "             age\n",
       "count  679332.00\n",
       "mean       44.19\n",
       "std        13.57\n",
       "min        18.00\n",
       "25%        35.00\n",
       "50%        42.00\n",
       "75%        52.00\n",
       "max        93.00"
      ]
     },
     "execution_count": 49,
     "metadata": {},
     "output_type": "execute_result"
    }
   ],
   "source": [
    "# describe pour regarder les valeurs minimales et maximales qui vont être attribuées\n",
    "df_final[['age']].describe()"
   ]
  },
  {
   "cell_type": "code",
   "execution_count": 50,
   "id": "5f18fb55",
   "metadata": {},
   "outputs": [
    {
     "data": {
      "text/plain": [
       "5.357142857142857"
      ]
     },
     "execution_count": 50,
     "metadata": {},
     "output_type": "execute_result"
    }
   ],
   "source": [
    "# 18 ans pour la valeur min\n",
    "# 93 ans pour la valeur max\n",
    "# Le résultat de la formule est égal à 14. n sera donc égal à cette valeur\n",
    "\n",
    "age_min = 18\n",
    "age_max = 93\n",
    "n = 14\n",
    "\n",
    "# Calculons maintenant la tranche par intervalle\n",
    "intervalle = (age_max - age_min) / n\n",
    "intervalle"
   ]
  },
  {
   "cell_type": "code",
   "execution_count": 51,
   "id": "bd84c698",
   "metadata": {},
   "outputs": [
    {
     "name": "stdout",
     "output_type": "stream",
     "text": [
      "23.357142857142858\n",
      "28.714285714285715\n",
      "34.07142857142857\n",
      "39.42857142857142\n",
      "44.78571428571428\n",
      "50.14285714285713\n",
      "55.499999999999986\n",
      "60.85714285714284\n",
      "66.2142857142857\n",
      "71.57142857142856\n",
      "76.92857142857142\n",
      "82.28571428571428\n",
      "87.64285714285714\n"
     ]
    }
   ],
   "source": [
    "# Boucle pour définir automatiquement nos tranches d'âges qui seront attribuées\n",
    "age = age_min\n",
    "\n",
    "for elem in range(1, n):\n",
    "    age = age + intervalle\n",
    "    print(age)"
   ]
  },
  {
   "cell_type": "code",
   "execution_count": 52,
   "id": "81ccdaca",
   "metadata": {},
   "outputs": [],
   "source": [
    "# On a nos tranches d'âges, on peut les assigner à notre futur colonne\n",
    "labels = ['18-23', '24-28', '29-34', '35-39', '40-44',\n",
    "         '45-50', '51-55', '56-60', '61-66', '67-71',\n",
    "         '72-76', '77-82', '83-87', '88-93']\n",
    "\n",
    "df_final['range age'] = pd.cut(df_final['age'], 14, labels=labels)"
   ]
  },
  {
   "cell_type": "code",
   "execution_count": 53,
   "id": "d09848d8",
   "metadata": {},
   "outputs": [
    {
     "data": {
      "text/plain": [
       "0        2022-05-20 13:21:29\n",
       "1        2022-06-18 05:55:31\n",
       "2        2023-02-08 17:31:06\n",
       "3        2021-04-20 06:18:39\n",
       "4        2022-03-15 19:54:53\n",
       "                 ...        \n",
       "679327   2021-05-15 08:17:35\n",
       "679328   2021-11-08 17:12:27\n",
       "679329   2021-06-01 04:31:16\n",
       "679330   2022-10-18 00:38:49\n",
       "679331   2021-12-18 00:38:49\n",
       "Name: date, Length: 679332, dtype: datetime64[ns]"
      ]
     },
     "execution_count": 53,
     "metadata": {},
     "output_type": "execute_result"
    }
   ],
   "source": [
    "df_final['date'] "
   ]
  },
  {
   "cell_type": "code",
   "execution_count": 54,
   "id": "7ae1d496",
   "metadata": {
    "scrolled": false
   },
   "outputs": [
    {
     "data": {
      "text/html": [
       "<div>\n",
       "<style scoped>\n",
       "    .dataframe tbody tr th:only-of-type {\n",
       "        vertical-align: middle;\n",
       "    }\n",
       "\n",
       "    .dataframe tbody tr th {\n",
       "        vertical-align: top;\n",
       "    }\n",
       "\n",
       "    .dataframe thead th {\n",
       "        text-align: right;\n",
       "    }\n",
       "</style>\n",
       "<table border=\"1\" class=\"dataframe\">\n",
       "  <thead>\n",
       "    <tr style=\"text-align: right;\">\n",
       "      <th></th>\n",
       "      <th>id_prod</th>\n",
       "      <th>date</th>\n",
       "      <th>session_id</th>\n",
       "      <th>client_id</th>\n",
       "      <th>price</th>\n",
       "      <th>categ</th>\n",
       "      <th>sex</th>\n",
       "      <th>birth</th>\n",
       "      <th>age</th>\n",
       "      <th>year</th>\n",
       "      <th>month</th>\n",
       "      <th>day</th>\n",
       "      <th>range age</th>\n",
       "    </tr>\n",
       "  </thead>\n",
       "  <tbody>\n",
       "    <tr>\n",
       "      <th>0</th>\n",
       "      <td>0_1518</td>\n",
       "      <td>2022-05-20 13:21:29</td>\n",
       "      <td>s_211425</td>\n",
       "      <td>c_103</td>\n",
       "      <td>4.18</td>\n",
       "      <td>0</td>\n",
       "      <td>f</td>\n",
       "      <td>1986</td>\n",
       "      <td>36</td>\n",
       "      <td>2022</td>\n",
       "      <td>5</td>\n",
       "      <td>20</td>\n",
       "      <td>35-39</td>\n",
       "    </tr>\n",
       "    <tr>\n",
       "      <th>1</th>\n",
       "      <td>0_1627</td>\n",
       "      <td>2022-06-18 05:55:31</td>\n",
       "      <td>s_225494</td>\n",
       "      <td>c_103</td>\n",
       "      <td>3.99</td>\n",
       "      <td>0</td>\n",
       "      <td>f</td>\n",
       "      <td>1986</td>\n",
       "      <td>36</td>\n",
       "      <td>2022</td>\n",
       "      <td>6</td>\n",
       "      <td>18</td>\n",
       "      <td>35-39</td>\n",
       "    </tr>\n",
       "    <tr>\n",
       "      <th>2</th>\n",
       "      <td>0_1104</td>\n",
       "      <td>2023-02-08 17:31:06</td>\n",
       "      <td>s_338755</td>\n",
       "      <td>c_103</td>\n",
       "      <td>13.21</td>\n",
       "      <td>0</td>\n",
       "      <td>f</td>\n",
       "      <td>1986</td>\n",
       "      <td>36</td>\n",
       "      <td>2023</td>\n",
       "      <td>2</td>\n",
       "      <td>8</td>\n",
       "      <td>35-39</td>\n",
       "    </tr>\n",
       "    <tr>\n",
       "      <th>3</th>\n",
       "      <td>0_1390</td>\n",
       "      <td>2021-04-20 06:18:39</td>\n",
       "      <td>s_23078</td>\n",
       "      <td>c_103</td>\n",
       "      <td>19.37</td>\n",
       "      <td>0</td>\n",
       "      <td>f</td>\n",
       "      <td>1986</td>\n",
       "      <td>36</td>\n",
       "      <td>2021</td>\n",
       "      <td>4</td>\n",
       "      <td>20</td>\n",
       "      <td>35-39</td>\n",
       "    </tr>\n",
       "    <tr>\n",
       "      <th>4</th>\n",
       "      <td>0_1547</td>\n",
       "      <td>2022-03-15 19:54:53</td>\n",
       "      <td>s_179629</td>\n",
       "      <td>c_103</td>\n",
       "      <td>8.99</td>\n",
       "      <td>0</td>\n",
       "      <td>f</td>\n",
       "      <td>1986</td>\n",
       "      <td>36</td>\n",
       "      <td>2022</td>\n",
       "      <td>3</td>\n",
       "      <td>15</td>\n",
       "      <td>35-39</td>\n",
       "    </tr>\n",
       "    <tr>\n",
       "      <th>...</th>\n",
       "      <td>...</td>\n",
       "      <td>...</td>\n",
       "      <td>...</td>\n",
       "      <td>...</td>\n",
       "      <td>...</td>\n",
       "      <td>...</td>\n",
       "      <td>...</td>\n",
       "      <td>...</td>\n",
       "      <td>...</td>\n",
       "      <td>...</td>\n",
       "      <td>...</td>\n",
       "      <td>...</td>\n",
       "      <td>...</td>\n",
       "    </tr>\n",
       "    <tr>\n",
       "      <th>679327</th>\n",
       "      <td>0_1509</td>\n",
       "      <td>2021-05-15 08:17:35</td>\n",
       "      <td>s_34762</td>\n",
       "      <td>c_8114</td>\n",
       "      <td>4.99</td>\n",
       "      <td>0</td>\n",
       "      <td>m</td>\n",
       "      <td>1962</td>\n",
       "      <td>60</td>\n",
       "      <td>2021</td>\n",
       "      <td>5</td>\n",
       "      <td>15</td>\n",
       "      <td>56-60</td>\n",
       "    </tr>\n",
       "    <tr>\n",
       "      <th>679328</th>\n",
       "      <td>1_152</td>\n",
       "      <td>2021-11-08 17:12:27</td>\n",
       "      <td>s_116675</td>\n",
       "      <td>c_240</td>\n",
       "      <td>11.06</td>\n",
       "      <td>1</td>\n",
       "      <td>m</td>\n",
       "      <td>1998</td>\n",
       "      <td>24</td>\n",
       "      <td>2021</td>\n",
       "      <td>11</td>\n",
       "      <td>8</td>\n",
       "      <td>24-28</td>\n",
       "    </tr>\n",
       "    <tr>\n",
       "      <th>679329</th>\n",
       "      <td>2_207</td>\n",
       "      <td>2021-06-01 04:31:16</td>\n",
       "      <td>s_42418</td>\n",
       "      <td>c_305</td>\n",
       "      <td>50.99</td>\n",
       "      <td>2</td>\n",
       "      <td>f</td>\n",
       "      <td>1996</td>\n",
       "      <td>26</td>\n",
       "      <td>2021</td>\n",
       "      <td>6</td>\n",
       "      <td>1</td>\n",
       "      <td>24-28</td>\n",
       "    </tr>\n",
       "    <tr>\n",
       "      <th>679330</th>\n",
       "      <td>1_521</td>\n",
       "      <td>2022-10-18 00:38:49</td>\n",
       "      <td>s_284060</td>\n",
       "      <td>c_305</td>\n",
       "      <td>22.99</td>\n",
       "      <td>1</td>\n",
       "      <td>f</td>\n",
       "      <td>1996</td>\n",
       "      <td>26</td>\n",
       "      <td>2022</td>\n",
       "      <td>10</td>\n",
       "      <td>18</td>\n",
       "      <td>24-28</td>\n",
       "    </tr>\n",
       "    <tr>\n",
       "      <th>679331</th>\n",
       "      <td>1_521</td>\n",
       "      <td>2021-12-18 00:38:49</td>\n",
       "      <td>s_135996</td>\n",
       "      <td>c_305</td>\n",
       "      <td>22.99</td>\n",
       "      <td>1</td>\n",
       "      <td>f</td>\n",
       "      <td>1996</td>\n",
       "      <td>26</td>\n",
       "      <td>2021</td>\n",
       "      <td>12</td>\n",
       "      <td>18</td>\n",
       "      <td>24-28</td>\n",
       "    </tr>\n",
       "  </tbody>\n",
       "</table>\n",
       "<p>679332 rows × 13 columns</p>\n",
       "</div>"
      ],
      "text/plain": [
       "       id_prod                date session_id client_id  price  categ sex  \\\n",
       "0       0_1518 2022-05-20 13:21:29   s_211425     c_103   4.18      0   f   \n",
       "1       0_1627 2022-06-18 05:55:31   s_225494     c_103   3.99      0   f   \n",
       "2       0_1104 2023-02-08 17:31:06   s_338755     c_103  13.21      0   f   \n",
       "3       0_1390 2021-04-20 06:18:39    s_23078     c_103  19.37      0   f   \n",
       "4       0_1547 2022-03-15 19:54:53   s_179629     c_103   8.99      0   f   \n",
       "...        ...                 ...        ...       ...    ...    ...  ..   \n",
       "679327  0_1509 2021-05-15 08:17:35    s_34762    c_8114   4.99      0   m   \n",
       "679328   1_152 2021-11-08 17:12:27   s_116675     c_240  11.06      1   m   \n",
       "679329   2_207 2021-06-01 04:31:16    s_42418     c_305  50.99      2   f   \n",
       "679330   1_521 2022-10-18 00:38:49   s_284060     c_305  22.99      1   f   \n",
       "679331   1_521 2021-12-18 00:38:49   s_135996     c_305  22.99      1   f   \n",
       "\n",
       "        birth  age  year  month  day range age  \n",
       "0        1986   36  2022      5   20     35-39  \n",
       "1        1986   36  2022      6   18     35-39  \n",
       "2        1986   36  2023      2    8     35-39  \n",
       "3        1986   36  2021      4   20     35-39  \n",
       "4        1986   36  2022      3   15     35-39  \n",
       "...       ...  ...   ...    ...  ...       ...  \n",
       "679327   1962   60  2021      5   15     56-60  \n",
       "679328   1998   24  2021     11    8     24-28  \n",
       "679329   1996   26  2021      6    1     24-28  \n",
       "679330   1996   26  2022     10   18     24-28  \n",
       "679331   1996   26  2021     12   18     24-28  \n",
       "\n",
       "[679332 rows x 13 columns]"
      ]
     },
     "metadata": {},
     "output_type": "display_data"
    }
   ],
   "source": [
    "# Aperçu des modifications\n",
    "display(df_final)"
   ]
  },
  {
   "cell_type": "markdown",
   "id": "dae2f420",
   "metadata": {},
   "source": [
    "# Visualisation des données nettoyées"
   ]
  },
  {
   "cell_type": "markdown",
   "id": "54242dfe",
   "metadata": {},
   "source": [
    " ## <a class=\"anchor\" id=\"section_4_1\">Customers</a> - Visualisation des données nettoyées de customers"
   ]
  },
  {
   "cell_type": "code",
   "execution_count": 55,
   "id": "744ccd3b",
   "metadata": {},
   "outputs": [
    {
     "data": {
      "image/png": "[encoded data removed]",
      "text/plain": [
       "<Figure size 504x504 with 1 Axes>"
      ]
     },
     "metadata": {
      "needs_background": "light"
     },
     "output_type": "display_data"
    }
   ],
   "source": [
    "fig = plt.figure(figsize=(7,7))\n",
    "ax = fig.add_axes([0,0,1,1])\n",
    "number_files_clients = df_customers['sex'].value_counts()\n",
    "type_sex = ['femme', 'homme']\n",
    "\n",
    "bars = ax.bar(type_sex, number_files_clients)\n",
    "ax.bar_label(bars, padding=2, fontsize=16)\n",
    "plt.title(\"Fiches clients par genre\")\n",
    "plt.xticks(fontsize=16)\n",
    "plt.yticks(fontsize=16)\n",
    "plt.show()"
   ]
  },
  {
   "cell_type": "markdown",
   "id": "9a878102",
   "metadata": {},
   "source": [
    "- Il y a 4490 clients de sexe femme\n",
    "- Il y a 4131 clients de sexe homme"
   ]
  },
  {
   "cell_type": "code",
   "execution_count": 56,
   "id": "f846f23a",
   "metadata": {
    "scrolled": false
   },
   "outputs": [
    {
     "data": {
      "image/png": "[encoded data removed]",
      "text/plain": [
       "<Figure size 504x504 with 1 Axes>"
      ]
     },
     "metadata": {
      "needs_background": "light"
     },
     "output_type": "display_data"
    },
    {
     "data": {
      "text/plain": [
       "18    440\n",
       "43    215\n",
       "34    207\n",
       "36    203\n",
       "44    199\n",
       "40    191\n",
       "42    191\n",
       "30    188\n",
       "54    181\n",
       "26    179\n",
       "Name: age, dtype: int64"
      ]
     },
     "execution_count": 56,
     "metadata": {},
     "output_type": "execute_result"
    }
   ],
   "source": [
    "df_customers['age'].value_counts().head(10).plot(kind='bar', figsize=(7,7))\n",
    "plt.title(\"Top 10 des âges les plus représentés dans les fiches clients\")\n",
    "plt.xticks(rotation=0, fontsize=16)\n",
    "plt.yticks(fontsize=16)\n",
    "plt.show()\n",
    "\n",
    "df_customers['age'].value_counts().head(10)"
   ]
  },
  {
   "cell_type": "markdown",
   "id": "a943b9fb",
   "metadata": {},
   "source": [
    "<b>On retrouve sur ce graphique les 10 fiches clients les plus comptées en terme d'âge. On s'aperçoit que les fiches clients avec un âge de 18 ans est majoritaire.</b>"
   ]
  },
  {
   "cell_type": "markdown",
   "id": "ac3ec5fd",
   "metadata": {},
   "source": [
    " ## <a class=\"anchor\" id=\"section_4_2\">Transactions</a> - Visualisation des données nettoyées de transactions"
   ]
  },
  {
   "cell_type": "code",
   "execution_count": 57,
   "id": "b27b543f",
   "metadata": {
    "scrolled": true
   },
   "outputs": [
    {
     "data": {
      "image/png": "[encoded data removed]",
      "text/plain": [
       "<Figure size 648x288 with 1 Axes>"
      ]
     },
     "metadata": {
      "needs_background": "light"
     },
     "output_type": "display_data"
    }
   ],
   "source": [
    "df_final.groupby([\"year\",\"month\"])[\"price\"].sum().plot(figsize=(9,4))\n",
    "plt.title(\"Données de transactions du 03/2021 à 02/2023\")\n",
    "plt.show()"
   ]
  },
  {
   "cell_type": "code",
   "execution_count": 58,
   "id": "d8a42afe",
   "metadata": {
    "scrolled": false
   },
   "outputs": [
    {
     "data": {
      "text/plain": [
       "year  month\n",
       "2021  3        482536.37\n",
       "      4        476258.26\n",
       "      5        493028.59\n",
       "      6        484163.04\n",
       "      7        482877.96\n",
       "      8        482380.55\n",
       "      9        507368.36\n",
       "      10       320873.22\n",
       "      11       516274.13\n",
       "      12       525991.76\n",
       "2022  1        525392.19\n",
       "      2        535688.54\n",
       "      3        515573.57\n",
       "      4        493147.90\n",
       "      5        517302.84\n",
       "      6        496090.60\n",
       "      7        510910.80\n",
       "      8        506552.39\n",
       "      9        494210.29\n",
       "      10       508024.17\n",
       "      11       496781.98\n",
       "      12       510283.34\n",
       "2023  1        517615.03\n",
       "      2        456754.24\n",
       "Name: price, dtype: float64"
      ]
     },
     "execution_count": 58,
     "metadata": {},
     "output_type": "execute_result"
    }
   ],
   "source": [
    "df_final.groupby([\"year\",\"month\"])[\"price\"].sum()"
   ]
  },
  {
   "cell_type": "markdown",
   "id": "01a030c3",
   "metadata": {},
   "source": [
    "- Baisse (inattendu?) du chiffre d'affaire au mois d'octobre 2021. On va revenir dessus avant de finaliser à 100% le nettoyage."
   ]
  },
  {
   "cell_type": "markdown",
   "id": "e0ab5b8f",
   "metadata": {},
   "source": [
    " ### <a class=\"anchor\" id=\"section_4_2_1\">Octobre 2021</a>  - Analyse de la baisse du mois d'octobre 2021"
   ]
  },
  {
   "cell_type": "code",
   "execution_count": 59,
   "id": "eb611bd2",
   "metadata": {},
   "outputs": [],
   "source": [
    "# On va stocker les ventes d'octobre 2021 pour vérifier plus en détails le potentiel problème\n",
    "df_octobre_2021 = df_final.loc[(df_final[\"year\"] == 2021) & (df_final['month'] == 10), [\"day\", \"price\", \"categ\"]]\n",
    "df_octobre_2021 = df_octobre_2021.groupby([\"day\", \"categ\"]).agg({\n",
    "    \"price\": [\"sum\", \"count\"]\n",
    "}).reset_index()"
   ]
  },
  {
   "cell_type": "code",
   "execution_count": 60,
   "id": "a23411e6",
   "metadata": {},
   "outputs": [],
   "source": [
    "df_octobre_2021.columns = [\"day\", \"categ\", \"ca\", \"volume\"]\n",
    "df_octobre_2021 = pd.pivot_table(df_octobre_2021, columns=[\"categ\"], index=[\"day\"]).reset_index()\n",
    "df_octobre_2021.columns = [\"day\", \"categ_0\", \"categ_1\", \"categ_2\",\n",
    "                          \"vol_0\", \"vol_1\", \"vol_2\"]"
   ]
  },
  {
   "cell_type": "code",
   "execution_count": 61,
   "id": "e309ae45",
   "metadata": {},
   "outputs": [
    {
     "data": {
      "text/html": [
       "<div>\n",
       "<style scoped>\n",
       "    .dataframe tbody tr th:only-of-type {\n",
       "        vertical-align: middle;\n",
       "    }\n",
       "\n",
       "    .dataframe tbody tr th {\n",
       "        vertical-align: top;\n",
       "    }\n",
       "\n",
       "    .dataframe thead th {\n",
       "        text-align: right;\n",
       "    }\n",
       "</style>\n",
       "<table border=\"1\" class=\"dataframe\">\n",
       "  <thead>\n",
       "    <tr style=\"text-align: right;\">\n",
       "      <th></th>\n",
       "      <th>day</th>\n",
       "      <th>categ_0</th>\n",
       "      <th>categ_1</th>\n",
       "      <th>categ_2</th>\n",
       "      <th>vol_0</th>\n",
       "      <th>vol_1</th>\n",
       "      <th>vol_2</th>\n",
       "    </tr>\n",
       "  </thead>\n",
       "  <tbody>\n",
       "    <tr>\n",
       "      <th>0</th>\n",
       "      <td>1</td>\n",
       "      <td>6950.50</td>\n",
       "      <td>7003.79</td>\n",
       "      <td>3104.05</td>\n",
       "      <td>663.0</td>\n",
       "      <td>344.0</td>\n",
       "      <td>38.0</td>\n",
       "    </tr>\n",
       "    <tr>\n",
       "      <th>1</th>\n",
       "      <td>2</td>\n",
       "      <td>7141.01</td>\n",
       "      <td>NaN</td>\n",
       "      <td>2041.12</td>\n",
       "      <td>661.0</td>\n",
       "      <td>NaN</td>\n",
       "      <td>28.0</td>\n",
       "    </tr>\n",
       "    <tr>\n",
       "      <th>2</th>\n",
       "      <td>3</td>\n",
       "      <td>6786.57</td>\n",
       "      <td>NaN</td>\n",
       "      <td>2206.48</td>\n",
       "      <td>648.0</td>\n",
       "      <td>NaN</td>\n",
       "      <td>31.0</td>\n",
       "    </tr>\n",
       "    <tr>\n",
       "      <th>3</th>\n",
       "      <td>4</td>\n",
       "      <td>6554.88</td>\n",
       "      <td>NaN</td>\n",
       "      <td>2746.08</td>\n",
       "      <td>603.0</td>\n",
       "      <td>NaN</td>\n",
       "      <td>38.0</td>\n",
       "    </tr>\n",
       "    <tr>\n",
       "      <th>4</th>\n",
       "      <td>5</td>\n",
       "      <td>6357.91</td>\n",
       "      <td>NaN</td>\n",
       "      <td>3032.55</td>\n",
       "      <td>594.0</td>\n",
       "      <td>NaN</td>\n",
       "      <td>38.0</td>\n",
       "    </tr>\n",
       "    <tr>\n",
       "      <th>5</th>\n",
       "      <td>6</td>\n",
       "      <td>7546.58</td>\n",
       "      <td>NaN</td>\n",
       "      <td>1944.11</td>\n",
       "      <td>702.0</td>\n",
       "      <td>NaN</td>\n",
       "      <td>26.0</td>\n",
       "    </tr>\n",
       "    <tr>\n",
       "      <th>6</th>\n",
       "      <td>7</td>\n",
       "      <td>6404.01</td>\n",
       "      <td>NaN</td>\n",
       "      <td>1787.07</td>\n",
       "      <td>597.0</td>\n",
       "      <td>NaN</td>\n",
       "      <td>26.0</td>\n",
       "    </tr>\n",
       "    <tr>\n",
       "      <th>7</th>\n",
       "      <td>8</td>\n",
       "      <td>7069.53</td>\n",
       "      <td>NaN</td>\n",
       "      <td>3137.82</td>\n",
       "      <td>669.0</td>\n",
       "      <td>NaN</td>\n",
       "      <td>44.0</td>\n",
       "    </tr>\n",
       "    <tr>\n",
       "      <th>8</th>\n",
       "      <td>9</td>\n",
       "      <td>6808.69</td>\n",
       "      <td>NaN</td>\n",
       "      <td>2616.67</td>\n",
       "      <td>640.0</td>\n",
       "      <td>NaN</td>\n",
       "      <td>35.0</td>\n",
       "    </tr>\n",
       "    <tr>\n",
       "      <th>9</th>\n",
       "      <td>10</td>\n",
       "      <td>6490.98</td>\n",
       "      <td>NaN</td>\n",
       "      <td>2334.67</td>\n",
       "      <td>600.0</td>\n",
       "      <td>NaN</td>\n",
       "      <td>29.0</td>\n",
       "    </tr>\n",
       "    <tr>\n",
       "      <th>10</th>\n",
       "      <td>11</td>\n",
       "      <td>7005.40</td>\n",
       "      <td>NaN</td>\n",
       "      <td>3225.16</td>\n",
       "      <td>642.0</td>\n",
       "      <td>NaN</td>\n",
       "      <td>42.0</td>\n",
       "    </tr>\n",
       "    <tr>\n",
       "      <th>11</th>\n",
       "      <td>12</td>\n",
       "      <td>6706.97</td>\n",
       "      <td>NaN</td>\n",
       "      <td>2264.18</td>\n",
       "      <td>633.0</td>\n",
       "      <td>NaN</td>\n",
       "      <td>30.0</td>\n",
       "    </tr>\n",
       "    <tr>\n",
       "      <th>12</th>\n",
       "      <td>13</td>\n",
       "      <td>6760.40</td>\n",
       "      <td>NaN</td>\n",
       "      <td>2666.82</td>\n",
       "      <td>633.0</td>\n",
       "      <td>NaN</td>\n",
       "      <td>36.0</td>\n",
       "    </tr>\n",
       "    <tr>\n",
       "      <th>13</th>\n",
       "      <td>14</td>\n",
       "      <td>6422.39</td>\n",
       "      <td>NaN</td>\n",
       "      <td>3047.39</td>\n",
       "      <td>606.0</td>\n",
       "      <td>NaN</td>\n",
       "      <td>40.0</td>\n",
       "    </tr>\n",
       "    <tr>\n",
       "      <th>14</th>\n",
       "      <td>15</td>\n",
       "      <td>6707.72</td>\n",
       "      <td>NaN</td>\n",
       "      <td>2701.75</td>\n",
       "      <td>634.0</td>\n",
       "      <td>NaN</td>\n",
       "      <td>38.0</td>\n",
       "    </tr>\n",
       "    <tr>\n",
       "      <th>15</th>\n",
       "      <td>16</td>\n",
       "      <td>6898.14</td>\n",
       "      <td>NaN</td>\n",
       "      <td>3330.88</td>\n",
       "      <td>661.0</td>\n",
       "      <td>NaN</td>\n",
       "      <td>45.0</td>\n",
       "    </tr>\n",
       "    <tr>\n",
       "      <th>16</th>\n",
       "      <td>17</td>\n",
       "      <td>6492.60</td>\n",
       "      <td>NaN</td>\n",
       "      <td>3065.38</td>\n",
       "      <td>625.0</td>\n",
       "      <td>NaN</td>\n",
       "      <td>44.0</td>\n",
       "    </tr>\n",
       "    <tr>\n",
       "      <th>17</th>\n",
       "      <td>18</td>\n",
       "      <td>6376.43</td>\n",
       "      <td>NaN</td>\n",
       "      <td>2707.29</td>\n",
       "      <td>608.0</td>\n",
       "      <td>NaN</td>\n",
       "      <td>37.0</td>\n",
       "    </tr>\n",
       "    <tr>\n",
       "      <th>18</th>\n",
       "      <td>19</td>\n",
       "      <td>5806.99</td>\n",
       "      <td>NaN</td>\n",
       "      <td>2816.00</td>\n",
       "      <td>567.0</td>\n",
       "      <td>NaN</td>\n",
       "      <td>37.0</td>\n",
       "    </tr>\n",
       "    <tr>\n",
       "      <th>19</th>\n",
       "      <td>20</td>\n",
       "      <td>5913.41</td>\n",
       "      <td>NaN</td>\n",
       "      <td>3118.42</td>\n",
       "      <td>555.0</td>\n",
       "      <td>NaN</td>\n",
       "      <td>42.0</td>\n",
       "    </tr>\n",
       "    <tr>\n",
       "      <th>20</th>\n",
       "      <td>21</td>\n",
       "      <td>6438.85</td>\n",
       "      <td>NaN</td>\n",
       "      <td>3132.94</td>\n",
       "      <td>610.0</td>\n",
       "      <td>NaN</td>\n",
       "      <td>43.0</td>\n",
       "    </tr>\n",
       "    <tr>\n",
       "      <th>21</th>\n",
       "      <td>22</td>\n",
       "      <td>6051.86</td>\n",
       "      <td>NaN</td>\n",
       "      <td>2416.00</td>\n",
       "      <td>572.0</td>\n",
       "      <td>NaN</td>\n",
       "      <td>35.0</td>\n",
       "    </tr>\n",
       "    <tr>\n",
       "      <th>22</th>\n",
       "      <td>23</td>\n",
       "      <td>5704.26</td>\n",
       "      <td>NaN</td>\n",
       "      <td>3206.38</td>\n",
       "      <td>555.0</td>\n",
       "      <td>NaN</td>\n",
       "      <td>47.0</td>\n",
       "    </tr>\n",
       "    <tr>\n",
       "      <th>23</th>\n",
       "      <td>24</td>\n",
       "      <td>6036.65</td>\n",
       "      <td>NaN</td>\n",
       "      <td>3886.54</td>\n",
       "      <td>584.0</td>\n",
       "      <td>NaN</td>\n",
       "      <td>44.0</td>\n",
       "    </tr>\n",
       "    <tr>\n",
       "      <th>24</th>\n",
       "      <td>25</td>\n",
       "      <td>5817.82</td>\n",
       "      <td>NaN</td>\n",
       "      <td>2258.22</td>\n",
       "      <td>545.0</td>\n",
       "      <td>NaN</td>\n",
       "      <td>32.0</td>\n",
       "    </tr>\n",
       "    <tr>\n",
       "      <th>25</th>\n",
       "      <td>26</td>\n",
       "      <td>6345.65</td>\n",
       "      <td>NaN</td>\n",
       "      <td>2685.78</td>\n",
       "      <td>592.0</td>\n",
       "      <td>NaN</td>\n",
       "      <td>36.0</td>\n",
       "    </tr>\n",
       "    <tr>\n",
       "      <th>26</th>\n",
       "      <td>27</td>\n",
       "      <td>5822.24</td>\n",
       "      <td>NaN</td>\n",
       "      <td>3967.29</td>\n",
       "      <td>530.0</td>\n",
       "      <td>NaN</td>\n",
       "      <td>49.0</td>\n",
       "    </tr>\n",
       "    <tr>\n",
       "      <th>27</th>\n",
       "      <td>28</td>\n",
       "      <td>5837.61</td>\n",
       "      <td>6317.99</td>\n",
       "      <td>2602.82</td>\n",
       "      <td>548.0</td>\n",
       "      <td>316.0</td>\n",
       "      <td>30.0</td>\n",
       "    </tr>\n",
       "    <tr>\n",
       "      <th>28</th>\n",
       "      <td>29</td>\n",
       "      <td>6410.57</td>\n",
       "      <td>6425.18</td>\n",
       "      <td>3617.88</td>\n",
       "      <td>595.0</td>\n",
       "      <td>326.0</td>\n",
       "      <td>50.0</td>\n",
       "    </tr>\n",
       "    <tr>\n",
       "      <th>29</th>\n",
       "      <td>30</td>\n",
       "      <td>5734.62</td>\n",
       "      <td>6753.69</td>\n",
       "      <td>2898.47</td>\n",
       "      <td>542.0</td>\n",
       "      <td>338.0</td>\n",
       "      <td>40.0</td>\n",
       "    </tr>\n",
       "    <tr>\n",
       "      <th>30</th>\n",
       "      <td>31</td>\n",
       "      <td>5924.07</td>\n",
       "      <td>7261.67</td>\n",
       "      <td>3219.38</td>\n",
       "      <td>555.0</td>\n",
       "      <td>342.0</td>\n",
       "      <td>41.0</td>\n",
       "    </tr>\n",
       "  </tbody>\n",
       "</table>\n",
       "</div>"
      ],
      "text/plain": [
       "    day  categ_0  categ_1  categ_2  vol_0  vol_1  vol_2\n",
       "0     1  6950.50  7003.79  3104.05  663.0  344.0   38.0\n",
       "1     2  7141.01      NaN  2041.12  661.0    NaN   28.0\n",
       "2     3  6786.57      NaN  2206.48  648.0    NaN   31.0\n",
       "3     4  6554.88      NaN  2746.08  603.0    NaN   38.0\n",
       "4     5  6357.91      NaN  3032.55  594.0    NaN   38.0\n",
       "5     6  7546.58      NaN  1944.11  702.0    NaN   26.0\n",
       "6     7  6404.01      NaN  1787.07  597.0    NaN   26.0\n",
       "7     8  7069.53      NaN  3137.82  669.0    NaN   44.0\n",
       "8     9  6808.69      NaN  2616.67  640.0    NaN   35.0\n",
       "9    10  6490.98      NaN  2334.67  600.0    NaN   29.0\n",
       "10   11  7005.40      NaN  3225.16  642.0    NaN   42.0\n",
       "11   12  6706.97      NaN  2264.18  633.0    NaN   30.0\n",
       "12   13  6760.40      NaN  2666.82  633.0    NaN   36.0\n",
       "13   14  6422.39      NaN  3047.39  606.0    NaN   40.0\n",
       "14   15  6707.72      NaN  2701.75  634.0    NaN   38.0\n",
       "15   16  6898.14      NaN  3330.88  661.0    NaN   45.0\n",
       "16   17  6492.60      NaN  3065.38  625.0    NaN   44.0\n",
       "17   18  6376.43      NaN  2707.29  608.0    NaN   37.0\n",
       "18   19  5806.99      NaN  2816.00  567.0    NaN   37.0\n",
       "19   20  5913.41      NaN  3118.42  555.0    NaN   42.0\n",
       "20   21  6438.85      NaN  3132.94  610.0    NaN   43.0\n",
       "21   22  6051.86      NaN  2416.00  572.0    NaN   35.0\n",
       "22   23  5704.26      NaN  3206.38  555.0    NaN   47.0\n",
       "23   24  6036.65      NaN  3886.54  584.0    NaN   44.0\n",
       "24   25  5817.82      NaN  2258.22  545.0    NaN   32.0\n",
       "25   26  6345.65      NaN  2685.78  592.0    NaN   36.0\n",
       "26   27  5822.24      NaN  3967.29  530.0    NaN   49.0\n",
       "27   28  5837.61  6317.99  2602.82  548.0  316.0   30.0\n",
       "28   29  6410.57  6425.18  3617.88  595.0  326.0   50.0\n",
       "29   30  5734.62  6753.69  2898.47  542.0  338.0   40.0\n",
       "30   31  5924.07  7261.67  3219.38  555.0  342.0   41.0"
      ]
     },
     "execution_count": 61,
     "metadata": {},
     "output_type": "execute_result"
    }
   ],
   "source": [
    "df_octobre_2021"
   ]
  },
  {
   "cell_type": "markdown",
   "id": "de7a0dd6",
   "metadata": {},
   "source": [
    "On peut aperçevoir plusieurs \"NaN\" allant du 02/10/2021 au 27/10/2021 inclus pour la catégorie 1. Il y a donc des données qui ont été possiblement perdues durant l'export vers le csv concerné"
   ]
  },
  {
   "cell_type": "code",
   "execution_count": 62,
   "id": "d528ec30",
   "metadata": {},
   "outputs": [
    {
     "data": {
      "image/png": "[encoded data removed]",
      "text/plain": [
       "<Figure size 2880x216 with 1 Axes>"
      ]
     },
     "metadata": {
      "needs_background": "light"
     },
     "output_type": "display_data"
    },
    {
     "data": {
      "image/png": "[encoded data removed]",
      "text/plain": [
       "<Figure size 2880x216 with 1 Axes>"
      ]
     },
     "metadata": {
      "needs_background": "light"
     },
     "output_type": "display_data"
    },
    {
     "data": {
      "image/png": "[encoded data removed]",
      "text/plain": [
       "<Figure size 2880x216 with 1 Axes>"
      ]
     },
     "metadata": {
      "needs_background": "light"
     },
     "output_type": "display_data"
    }
   ],
   "source": [
    "for i, categ in enumerate([0,1,2]):\n",
    "    plt.figure(figsize=(40,3))\n",
    "    plt.subplot(1, 2, 2)\n",
    "    plt.bar(df_octobre_2021[\"day\"], df_octobre_2021[f\"vol_{categ}\"])\n",
    "    plt.xlabel(\"Dates du mois d'octobre 2021\", fontsize=16)\n",
    "    plt.ylabel(f\"categ {categ}\", fontsize=14)\n",
    "    plt.title(\"Ventes journalières durant le mois d'octobre 2021\", fontsize=16)\n",
    "    plt.show()"
   ]
  },
  {
   "cell_type": "markdown",
   "id": "11d6c434",
   "metadata": {},
   "source": [
    "Confirmation avec cette série de graphiques, représentant les trois catégories. Grâce à cette visualiation et ce résultat, on peut affirmer notre hypothèse ci-dessus (pertes de données durant l'export de ou des csv)"
   ]
  },
  {
   "cell_type": "markdown",
   "id": "87fb91c1",
   "metadata": {},
   "source": [
    " ## <a class=\"anchor\" id=\"section_4_3\">Products</a> - Visualisation des données nettoyées de products"
   ]
  },
  {
   "cell_type": "code",
   "execution_count": 63,
   "id": "ba8881fa",
   "metadata": {},
   "outputs": [
    {
     "data": {
      "text/plain": [
       "categ\n",
       "0     11.73\n",
       "1     25.53\n",
       "2    108.35\n",
       "Name: price, dtype: float64"
      ]
     },
     "execution_count": 63,
     "metadata": {},
     "output_type": "execute_result"
    }
   ],
   "source": [
    "# Première visualisation sans graphique des moyennes des catégories\n",
    "df_products.groupby(['categ'])['price'].mean()"
   ]
  },
  {
   "cell_type": "markdown",
   "id": "bcff171c",
   "metadata": {},
   "source": [
    "- La moyenne des produits de la catégorie 0 est à 11,73 €\n",
    "- La moyenne des produits de la catégorie 1 est à 25,53 €\n",
    "- La moyenne des produits de la catégorie 2 est à 108.35 €"
   ]
  },
  {
   "cell_type": "code",
   "execution_count": 64,
   "id": "c7c66f06",
   "metadata": {},
   "outputs": [
    {
     "data": {
      "image/png": "[encoded data removed]",
      "text/plain": [
       "<Figure size 1152x720 with 1 Axes>"
      ]
     },
     "metadata": {
      "needs_background": "light"
     },
     "output_type": "display_data"
    }
   ],
   "source": [
    "categ_0_mean = df_products[df_products['categ'] == 0]['price']\n",
    "categ_1_mean = df_products[df_products['categ'] == 1]['price']\n",
    "categ_2_mean = df_products[df_products['categ'] == 2]['price']\n",
    "\n",
    "columns = [\n",
    "    categ_0_mean,\n",
    "    categ_1_mean,\n",
    "    categ_2_mean\n",
    "]\n",
    "\n",
    "figure, axes = plt.subplots(figsize=(16,10))\n",
    "axes.boxplot(columns)\n",
    "plt.xticks(\n",
    "    [1, 2, 3],\n",
    "    ['categ 0', 'categ 1', 'categ 2']\n",
    ")\n",
    "plt.title('Répartition des prix par catégorie', fontsize=16)\n",
    "plt.grid()\n",
    "plt.show()"
   ]
  },
  {
   "cell_type": "markdown",
   "id": "395cf259",
   "metadata": {},
   "source": [
    "Confirmation avec ce boxplot concernant les moyennes ainsi que les distributions des différents prix des catégories 0, 1 et 2."
   ]
  },
  {
   "cell_type": "markdown",
   "id": "f9fb9531",
   "metadata": {},
   "source": [
    "<b>L'analyse exploratoire des données a permis plusieurs vérifications et nettoyages au sein des dataframes. Des graphiques illustrent également une partie de ces résultats. Le dataframe final est exporté pour permettre une analyse plus poussée dans un autre notebook."
   ]
  },
  {
   "cell_type": "code",
   "execution_count": 65,
   "id": "7a46cf64",
   "metadata": {},
   "outputs": [],
   "source": [
    "# Exportation du df en format csv\n",
    "df_final.to_csv('df_final.csv')"
   ]
  }
 ],
 "metadata": {
  "kernelspec": {
   "display_name": "Python 3 (ipykernel)",
   "language": "python",
   "name": "python3"
  },
  "language_info": {
   "codemirror_mode": {
    "name": "ipython",
    "version": 3
   },
   "file_extension": ".py",
   "mimetype": "text/x-python",
   "name": "python",
   "nbconvert_exporter": "python",
   "pygments_lexer": "ipython3",
   "version": "3.9.12"
  }
 },
 "nbformat": 4,
 "nbformat_minor": 5
}
