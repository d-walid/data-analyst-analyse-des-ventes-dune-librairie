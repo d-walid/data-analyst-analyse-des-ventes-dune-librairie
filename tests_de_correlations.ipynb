{
 "cells": [
  {
   "cell_type": "markdown",
   "id": "05881eb3",
   "metadata": {},
   "source": [
    "# Table des matières\n",
    "\n",
    "- # Sexe\n",
    "    - ## [Test de chi-2](#section_1_1) - Lien entre la catégorie et le genre par un test de chi-2\n",
    "<br>\n",
    "\n",
    "- # Age\n",
    "    - ## [Test de Spearman](#section_2_1) - Lien entre l'âge et le montant total des achats\n",
    "<br>\n",
    "\n",
    "- # Produits\n",
    "    - ## [Test de chi-2](#section_3_1) - Lien entre la catégorie et l'âge par un test de chi-2\n",
    "\n",
    "<br>\n",
    "\n",
    "- # Paniers moyens\n",
    "    - ## [Test de Spearman](#section_4_1) - Lien entre l'âge et le nombre de paniers    \n",
    "<br>\n",
    "\n",
    "- # Fréquence d'achats\n",
    "    - ## [Test de Spearman](#section_5_1) - Calcul de la fréquence mensuelle par âges\n",
    "    - ## [Test d'ANOVA](#section_5_2) - Lien entre la fréquence d'achats et l'âge\n",
    "<br>"
   ]
  },
  {
   "cell_type": "markdown",
   "id": "590ced94",
   "metadata": {},
   "source": [
    "### Import des librairies ainsi que leurs versions"
   ]
  },
  {
   "cell_type": "code",
   "execution_count": 1,
   "id": "e5a5c026",
   "metadata": {},
   "outputs": [
    {
     "name": "stdout",
     "output_type": "stream",
     "text": [
      "Python 3.9.12\n",
      "pandas 1.4.2\n",
      "numpy 1.21.5\n",
      "seaborn 0.11.2\n",
      "statsmodels.api 0.13.2\n"
     ]
    }
   ],
   "source": [
    "import pandas as pd\n",
    "import numpy as np\n",
    "import scipy.stats as st\n",
    "import matplotlib.pyplot as plt\n",
    "import seaborn as sns\n",
    "import statsmodels.api as sm\n",
    "import warnings\n",
    "from statsmodels.formula.api import ols\n",
    "\n",
    "warnings.simplefilter(action='ignore', category=pd.errors.PerformanceWarning)\n",
    "\n",
    "!python --version\n",
    "print('\\n'.join(f'{m.__name__} {m.__version__}' \n",
    "                for m in globals().values() \n",
    "                if getattr(m, '__version__', None)))"
   ]
  },
  {
   "cell_type": "markdown",
   "id": "9e0f7deb",
   "metadata": {},
   "source": [
    "### Options d'affichage"
   ]
  },
  {
   "cell_type": "code",
   "execution_count": 2,
   "id": "e30d75af",
   "metadata": {},
   "outputs": [
    {
     "data": {
      "text/html": [
       "<style>\n",
       ".output {\n",
       "    flex-direction: row;\n",
       "    \n",
       "}\n",
       "</style>"
      ],
      "text/plain": [
       "<IPython.core.display.HTML object>"
      ]
     },
     "execution_count": 2,
     "metadata": {},
     "output_type": "execute_result"
    }
   ],
   "source": [
    "# Affichage de seulement deux chiffres après la virgule\n",
    "pd.options.display.float_format = \"{:.2f}\".format\n",
    "\n",
    "# Taille de la figure par défaut\n",
    "plt.rcParams[\"figure.figsize\"] = (20,3)\n",
    "\n",
    "# Taille de la police d'écriture par défaut dans une figure\n",
    "plt.rcParams.update({'font.size': 18})\n",
    "\n",
    "# Affichage de multiples displays en lignes, plutôt qu'en colonne\n",
    "from IPython.display import display, HTML, display_html\n",
    "\n",
    "CSS = \"\"\"\n",
    ".output {\n",
    "    flex-direction: row;\n",
    "    \n",
    "}\n",
    "\"\"\"\n",
    "\n",
    "HTML('<style>{}</style>'.format(CSS))"
   ]
  },
  {
   "cell_type": "markdown",
   "id": "d462c3f0",
   "metadata": {},
   "source": [
    "### Import du dataframe"
   ]
  },
  {
   "cell_type": "code",
   "execution_count": 4,
   "id": "4b3492a4",
   "metadata": {},
   "outputs": [],
   "source": [
    "df_final = pd.read_csv('df_final.csv', index_col=0)"
   ]
  },
  {
   "cell_type": "markdown",
   "id": "1f2cc52b",
   "metadata": {},
   "source": [
    "### Modification du dataframe"
   ]
  },
  {
   "cell_type": "code",
   "execution_count": 9,
   "id": "e4b29956",
   "metadata": {},
   "outputs": [],
   "source": [
    "# Création d'une copie du dataframe pour ensuite enlever les clients B2B sans perdre de données\n",
    "df_B2C = df_final.copy()"
   ]
  },
  {
   "cell_type": "code",
   "execution_count": 10,
   "id": "beaab287",
   "metadata": {},
   "outputs": [],
   "source": [
    "# Supressions des clients B2B dans le dataframe B2C\n",
    "df_B2C.drop(df_B2C[(df_B2C[\"client_id\"] == \"c_1609\")].index, inplace=True)\n",
    "df_B2C.drop(df_B2C[(df_B2C[\"client_id\"] == \"c_4958\")].index, inplace=True)\n",
    "df_B2C.drop(df_B2C[(df_B2C[\"client_id\"] == \"c_6714\")].index, inplace=True)\n",
    "df_B2C.drop(df_B2C[(df_B2C[\"client_id\"] == \"c_3454\")].index, inplace=True)"
   ]
  },
  {
   "cell_type": "code",
   "execution_count": 11,
   "id": "287ece41",
   "metadata": {},
   "outputs": [
    {
     "data": {
      "text/plain": [
       "(632689, 13)"
      ]
     },
     "execution_count": 11,
     "metadata": {},
     "output_type": "execute_result"
    }
   ],
   "source": [
    "df_B2C.shape"
   ]
  },
  {
   "cell_type": "code",
   "execution_count": 12,
   "id": "abe66852",
   "metadata": {
    "scrolled": true
   },
   "outputs": [
    {
     "data": {
      "text/plain": [
       "(679332, 13)"
      ]
     },
     "execution_count": 12,
     "metadata": {},
     "output_type": "execute_result"
    }
   ],
   "source": [
    "df_final.shape"
   ]
  },
  {
   "cell_type": "markdown",
   "id": "ea6d0fd2",
   "metadata": {},
   "source": [
    "# Sexe"
   ]
  },
  {
   "cell_type": "markdown",
   "id": "8e917b10",
   "metadata": {},
   "source": [
    "## <a class=\"anchor\" id=\"section_1_1\">Test de chi-2</a> - Lien entre la catégorie et le genre par un test de chi-2"
   ]
  },
  {
   "cell_type": "code",
   "execution_count": 5,
   "id": "29ba8e91",
   "metadata": {},
   "outputs": [
    {
     "data": {
      "text/html": [
       "<div>\n",
       "<style scoped>\n",
       "    .dataframe tbody tr th:only-of-type {\n",
       "        vertical-align: middle;\n",
       "    }\n",
       "\n",
       "    .dataframe tbody tr th {\n",
       "        vertical-align: top;\n",
       "    }\n",
       "\n",
       "    .dataframe thead th {\n",
       "        text-align: right;\n",
       "    }\n",
       "</style>\n",
       "<table border=\"1\" class=\"dataframe\">\n",
       "  <thead>\n",
       "    <tr style=\"text-align: right;\">\n",
       "      <th>categ</th>\n",
       "      <th>0</th>\n",
       "      <th>1</th>\n",
       "      <th>2</th>\n",
       "    </tr>\n",
       "    <tr>\n",
       "      <th>sex</th>\n",
       "      <th></th>\n",
       "      <th></th>\n",
       "      <th></th>\n",
       "    </tr>\n",
       "  </thead>\n",
       "  <tbody>\n",
       "    <tr>\n",
       "      <th>f</th>\n",
       "      <td>206220</td>\n",
       "      <td>114899</td>\n",
       "      <td>17283</td>\n",
       "    </tr>\n",
       "    <tr>\n",
       "      <th>m</th>\n",
       "      <td>209460</td>\n",
       "      <td>112270</td>\n",
       "      <td>19200</td>\n",
       "    </tr>\n",
       "  </tbody>\n",
       "</table>\n",
       "</div>"
      ],
      "text/plain": [
       "categ       0       1      2\n",
       "sex                         \n",
       "f      206220  114899  17283\n",
       "m      209460  112270  19200"
      ]
     },
     "metadata": {},
     "output_type": "display_data"
    }
   ],
   "source": [
    "categ_sex = pd.crosstab(df_final['sex'], df_final['categ'])\n",
    "display(categ_sex)"
   ]
  },
  {
   "cell_type": "code",
   "execution_count": 6,
   "id": "c279daa7",
   "metadata": {},
   "outputs": [
    {
     "name": "stdout",
     "output_type": "stream",
     "text": [
      "La pvalue est de 1.1989607410166063e-32\n"
     ]
    }
   ],
   "source": [
    "chi2, pvalue, dof, exp = st.chi2_contingency(categ_sex)\n",
    "\n",
    "print(f\"La pvalue est de\", pvalue)"
   ]
  },
  {
   "cell_type": "code",
   "execution_count": 7,
   "id": "5a1c2c5d",
   "metadata": {},
   "outputs": [
    {
     "data": {
      "image/png": "[encoded data removed]",
      "text/plain": [
       "<Figure size 720x360 with 2 Axes>"
      ]
     },
     "metadata": {
      "needs_background": "light"
     },
     "output_type": "display_data"
    }
   ],
   "source": [
    "length_i = categ_sex.shape[0]\n",
    "length_j = categ_sex.shape[1]\n",
    "\n",
    "\n",
    "xij = np.zeros((length_i, length_j))\n",
    "\n",
    "for i in range(length_i):\n",
    "    for j in range(length_j):\n",
    "        xij[i,j] = (categ_sex.values[i,j] - exp[i,j]) ** 2 / exp[i,j]\n",
    "\n",
    "plt.figure(figsize=(10, 5))      \n",
    "sns.heatmap(xij/chi2,\n",
    "           annot=categ_sex,\n",
    "           fmt='d',\n",
    "           yticklabels=['f', 'm'])\n",
    "\n",
    "plt.title(\"Heat map de l'influence avec notre test de chi2\")\n",
    "plt.show()"
   ]
  },
  {
   "cell_type": "markdown",
   "id": "0bc413b6",
   "metadata": {},
   "source": [
    "Grâce à ce test de chi-2, l'hypothèse nulle est rejetée. L'achat de produits dans une catégorie ne dépend pas du genre de l'acheteur."
   ]
  },
  {
   "cell_type": "markdown",
   "id": "f36a0046",
   "metadata": {},
   "source": [
    "# Age"
   ]
  },
  {
   "cell_type": "markdown",
   "id": "440a36a0",
   "metadata": {},
   "source": [
    "## <a class=\"anchor\" id=\"section_2_1\">Test de Spearman</a> - Lien entre l'âge et le montant total des achats"
   ]
  },
  {
   "cell_type": "markdown",
   "id": "7474807c",
   "metadata": {},
   "source": [
    "Comme ce n'est pas une distribution normale au vu des précédents résulats, le test de Spearman peut être intéressant."
   ]
  },
  {
   "cell_type": "code",
   "execution_count": 13,
   "id": "6cb86d51",
   "metadata": {},
   "outputs": [
    {
     "data": {
      "text/plain": [
       "age\n",
       "18    15149\n",
       "19     4371\n",
       "20     4587\n",
       "21     4252\n",
       "22     4415\n",
       "      ...  \n",
       "89      327\n",
       "90      311\n",
       "91      170\n",
       "92      226\n",
       "93      201\n",
       "Name: client_id, Length: 76, dtype: int64"
      ]
     },
     "metadata": {},
     "output_type": "display_data"
    },
    {
     "data": {
      "text/plain": [
       "age\n",
       "18   609013.69\n",
       "19   178195.78\n",
       "20   184209.27\n",
       "21   178497.70\n",
       "22   165029.26\n",
       "        ...   \n",
       "89     5264.99\n",
       "90     5043.19\n",
       "91     2815.45\n",
       "92     4013.87\n",
       "93     3221.85\n",
       "Name: price, Length: 76, dtype: float64"
      ]
     },
     "metadata": {},
     "output_type": "display_data"
    }
   ],
   "source": [
    "age = df_B2C.groupby([\"age\"])[\"client_id\"].count()\n",
    "total_achats_age = df_B2C.groupby([\"age\"])[\"price\"].sum()\n",
    "\n",
    "display(age, total_achats_age)"
   ]
  },
  {
   "cell_type": "code",
   "execution_count": 14,
   "id": "b72ab5b3",
   "metadata": {},
   "outputs": [
    {
     "name": "stdout",
     "output_type": "stream",
     "text": [
      "Spearman  SpearmanrResult(correlation=-0.8736842105263158, pvalue=7.352708223159905e-25)\n"
     ]
    }
   ],
   "source": [
    "# Corrélation entre les informations concernant l'âge et le montant total des achats effectués par ceux-ci\n",
    "print(\"Spearman \", st.spearmanr(total_achats_age.index, total_achats_age.values))"
   ]
  },
  {
   "cell_type": "code",
   "execution_count": 15,
   "id": "1920e5bf",
   "metadata": {
    "scrolled": true
   },
   "outputs": [
    {
     "data": {
      "image/png": "[encoded data removed]",
      "text/plain": [
       "<Figure size 1080x576 with 1 Axes>"
      ]
     },
     "metadata": {
      "needs_background": "light"
     },
     "output_type": "display_data"
    }
   ],
   "source": [
    "# Création d'un graphique pour visualiser notre test de Spearman\n",
    "\n",
    "plt.figure(figsize=(15, 8))\n",
    "sns.scatterplot(data=total_achats_age)\n",
    "plt.ylabel(\"montant total du des achats\")\n",
    "plt.show()"
   ]
  },
  {
   "cell_type": "markdown",
   "id": "233a30ce",
   "metadata": {},
   "source": [
    "# Produits"
   ]
  },
  {
   "cell_type": "markdown",
   "id": "cc670b67",
   "metadata": {},
   "source": [
    "## <a class=\"anchor\" id=\"section_3_1\">Test de chi-2</a> - Lien entre la catégorie et l'âge par un test de chi-2"
   ]
  },
  {
   "cell_type": "code",
   "execution_count": 16,
   "id": "8acf3a6e",
   "metadata": {},
   "outputs": [
    {
     "data": {
      "text/html": [
       "<div>\n",
       "<style scoped>\n",
       "    .dataframe tbody tr th:only-of-type {\n",
       "        vertical-align: middle;\n",
       "    }\n",
       "\n",
       "    .dataframe tbody tr th {\n",
       "        vertical-align: top;\n",
       "    }\n",
       "\n",
       "    .dataframe thead th {\n",
       "        text-align: right;\n",
       "    }\n",
       "</style>\n",
       "<table border=\"1\" class=\"dataframe\">\n",
       "  <thead>\n",
       "    <tr style=\"text-align: right;\">\n",
       "      <th></th>\n",
       "      <th>range age</th>\n",
       "      <th>categ</th>\n",
       "    </tr>\n",
       "  </thead>\n",
       "  <tbody>\n",
       "    <tr>\n",
       "      <th>0</th>\n",
       "      <td>35-39</td>\n",
       "      <td>0</td>\n",
       "    </tr>\n",
       "    <tr>\n",
       "      <th>1</th>\n",
       "      <td>35-39</td>\n",
       "      <td>0</td>\n",
       "    </tr>\n",
       "    <tr>\n",
       "      <th>2</th>\n",
       "      <td>35-39</td>\n",
       "      <td>0</td>\n",
       "    </tr>\n",
       "    <tr>\n",
       "      <th>3</th>\n",
       "      <td>35-39</td>\n",
       "      <td>0</td>\n",
       "    </tr>\n",
       "    <tr>\n",
       "      <th>4</th>\n",
       "      <td>35-39</td>\n",
       "      <td>0</td>\n",
       "    </tr>\n",
       "  </tbody>\n",
       "</table>\n",
       "</div>"
      ],
      "text/plain": [
       "  range age  categ\n",
       "0     35-39      0\n",
       "1     35-39      0\n",
       "2     35-39      0\n",
       "3     35-39      0\n",
       "4     35-39      0"
      ]
     },
     "metadata": {},
     "output_type": "display_data"
    }
   ],
   "source": [
    "age_categ = df_B2C[['range age', 'categ']]\n",
    "display(age_categ.head())"
   ]
  },
  {
   "cell_type": "code",
   "execution_count": 17,
   "id": "1da5bea2",
   "metadata": {},
   "outputs": [
    {
     "data": {
      "text/html": [
       "<div>\n",
       "<style scoped>\n",
       "    .dataframe tbody tr th:only-of-type {\n",
       "        vertical-align: middle;\n",
       "    }\n",
       "\n",
       "    .dataframe tbody tr th {\n",
       "        vertical-align: top;\n",
       "    }\n",
       "\n",
       "    .dataframe thead th {\n",
       "        text-align: right;\n",
       "    }\n",
       "</style>\n",
       "<table border=\"1\" class=\"dataframe\">\n",
       "  <thead>\n",
       "    <tr style=\"text-align: right;\">\n",
       "      <th>categ</th>\n",
       "      <th>0</th>\n",
       "      <th>1</th>\n",
       "      <th>2</th>\n",
       "      <th>Total</th>\n",
       "    </tr>\n",
       "    <tr>\n",
       "      <th>range age</th>\n",
       "      <th></th>\n",
       "      <th></th>\n",
       "      <th></th>\n",
       "      <th></th>\n",
       "    </tr>\n",
       "  </thead>\n",
       "  <tbody>\n",
       "    <tr>\n",
       "      <th>18-23</th>\n",
       "      <td>8601</td>\n",
       "      <td>14222</td>\n",
       "      <td>14997</td>\n",
       "      <td>37820</td>\n",
       "    </tr>\n",
       "    <tr>\n",
       "      <th>24-28</th>\n",
       "      <td>5813</td>\n",
       "      <td>9897</td>\n",
       "      <td>10763</td>\n",
       "      <td>26473</td>\n",
       "    </tr>\n",
       "    <tr>\n",
       "      <th>29-34</th>\n",
       "      <td>60527</td>\n",
       "      <td>21475</td>\n",
       "      <td>4441</td>\n",
       "      <td>86443</td>\n",
       "    </tr>\n",
       "    <tr>\n",
       "      <th>35-39</th>\n",
       "      <td>75737</td>\n",
       "      <td>23497</td>\n",
       "      <td>320</td>\n",
       "      <td>99554</td>\n",
       "    </tr>\n",
       "    <tr>\n",
       "      <th>40-44</th>\n",
       "      <td>83787</td>\n",
       "      <td>26260</td>\n",
       "      <td>450</td>\n",
       "      <td>110497</td>\n",
       "    </tr>\n",
       "    <tr>\n",
       "      <th>45-50</th>\n",
       "      <td>81656</td>\n",
       "      <td>25547</td>\n",
       "      <td>383</td>\n",
       "      <td>107586</td>\n",
       "    </tr>\n",
       "    <tr>\n",
       "      <th>51-55</th>\n",
       "      <td>19131</td>\n",
       "      <td>24421</td>\n",
       "      <td>402</td>\n",
       "      <td>43954</td>\n",
       "    </tr>\n",
       "    <tr>\n",
       "      <th>56-60</th>\n",
       "      <td>15614</td>\n",
       "      <td>20410</td>\n",
       "      <td>309</td>\n",
       "      <td>36333</td>\n",
       "    </tr>\n",
       "    <tr>\n",
       "      <th>61-66</th>\n",
       "      <td>15491</td>\n",
       "      <td>19485</td>\n",
       "      <td>349</td>\n",
       "      <td>35325</td>\n",
       "    </tr>\n",
       "    <tr>\n",
       "      <th>67-71</th>\n",
       "      <td>8860</td>\n",
       "      <td>11559</td>\n",
       "      <td>171</td>\n",
       "      <td>20590</td>\n",
       "    </tr>\n",
       "    <tr>\n",
       "      <th>72-76</th>\n",
       "      <td>5503</td>\n",
       "      <td>6726</td>\n",
       "      <td>101</td>\n",
       "      <td>12330</td>\n",
       "    </tr>\n",
       "    <tr>\n",
       "      <th>77-82</th>\n",
       "      <td>4115</td>\n",
       "      <td>5513</td>\n",
       "      <td>93</td>\n",
       "      <td>9721</td>\n",
       "    </tr>\n",
       "    <tr>\n",
       "      <th>83-87</th>\n",
       "      <td>1898</td>\n",
       "      <td>2320</td>\n",
       "      <td>55</td>\n",
       "      <td>4273</td>\n",
       "    </tr>\n",
       "    <tr>\n",
       "      <th>88-93</th>\n",
       "      <td>760</td>\n",
       "      <td>1016</td>\n",
       "      <td>14</td>\n",
       "      <td>1790</td>\n",
       "    </tr>\n",
       "    <tr>\n",
       "      <th>Total</th>\n",
       "      <td>387493</td>\n",
       "      <td>212348</td>\n",
       "      <td>32848</td>\n",
       "      <td>632689</td>\n",
       "    </tr>\n",
       "  </tbody>\n",
       "</table>\n",
       "</div>"
      ],
      "text/plain": [
       "categ           0       1      2   Total\n",
       "range age                               \n",
       "18-23        8601   14222  14997   37820\n",
       "24-28        5813    9897  10763   26473\n",
       "29-34       60527   21475   4441   86443\n",
       "35-39       75737   23497    320   99554\n",
       "40-44       83787   26260    450  110497\n",
       "45-50       81656   25547    383  107586\n",
       "51-55       19131   24421    402   43954\n",
       "56-60       15614   20410    309   36333\n",
       "61-66       15491   19485    349   35325\n",
       "67-71        8860   11559    171   20590\n",
       "72-76        5503    6726    101   12330\n",
       "77-82        4115    5513     93    9721\n",
       "83-87        1898    2320     55    4273\n",
       "88-93         760    1016     14    1790\n",
       "Total      387493  212348  32848  632689"
      ]
     },
     "execution_count": 17,
     "metadata": {},
     "output_type": "execute_result"
    }
   ],
   "source": [
    "# Création d'un tableau de contingence\n",
    "X = \"range age\"\n",
    "Y = \"categ\"\n",
    "\n",
    "age_categ_cont = df_B2C[[X, Y]].pivot_table(index=X,\n",
    "                                           columns=Y,\n",
    "                                           aggfunc=len,\n",
    "                                           margins=True,\n",
    "                                           margins_name=\"Total\")\n",
    "\n",
    "age_categ_cont"
   ]
  },
  {
   "cell_type": "code",
   "execution_count": 18,
   "id": "9fb1fc58",
   "metadata": {},
   "outputs": [
    {
     "name": "stdout",
     "output_type": "stream",
     "text": [
      "La pvalue est de 0.0\n"
     ]
    }
   ],
   "source": [
    "chi2, pvalue, dof, exp = st.chi2_contingency(age_categ_cont)\n",
    "\n",
    "print(f\"La pvalue est de\", pvalue)"
   ]
  },
  {
   "cell_type": "code",
   "execution_count": 19,
   "id": "2aca7f0e",
   "metadata": {},
   "outputs": [
    {
     "data": {
      "image/png": "[encoded data removed]",
      "text/plain": [
       "<Figure size 864x504 with 2 Axes>"
      ]
     },
     "metadata": {
      "needs_background": "light"
     },
     "output_type": "display_data"
    }
   ],
   "source": [
    "tx = age_categ_cont.loc[:, ['Total']]\n",
    "ty = age_categ_cont.loc[[\"Total\"], :]\n",
    "n = (len(df_B2C))\n",
    "indep = tx.dot(ty) / n\n",
    "\n",
    "c = age_categ_cont.fillna(0)\n",
    "measure = (c - indep) ** 2 / indep\n",
    "xi_n = measure.sum().sum()\n",
    "table = measure/xi_n\n",
    "\n",
    "plt.figure(figsize=(12,7))\n",
    "sns.heatmap(table.iloc[:-1, :-1], annot=c.iloc[:-1, :-1])\n",
    "plt.show()"
   ]
  },
  {
   "cell_type": "markdown",
   "id": "9047f463",
   "metadata": {},
   "source": [
    "Il y a une forte corrélation par rapport aux clients de 18-28 ans pour la catégorie 2."
   ]
  },
  {
   "cell_type": "markdown",
   "id": "ce922d89",
   "metadata": {},
   "source": [
    "# Paniers moyens"
   ]
  },
  {
   "cell_type": "markdown",
   "id": "4a333bcf",
   "metadata": {},
   "source": [
    "## <a class=\"anchor\" id=\"section_4_1\">Test de Spearman</a> - Lien entre l'âge et le nombre de paniers"
   ]
  },
  {
   "cell_type": "code",
   "execution_count": 20,
   "id": "05279e8e",
   "metadata": {},
   "outputs": [],
   "source": [
    "nbr_achats_session = df_B2C.groupby(['age'])['session_id'].count()"
   ]
  },
  {
   "cell_type": "code",
   "execution_count": 21,
   "id": "26a72ff6",
   "metadata": {},
   "outputs": [
    {
     "name": "stdout",
     "output_type": "stream",
     "text": [
      "Spearman  SpearmanrResult(correlation=-0.6738482570061518, pvalue=2.5391854434818517e-11)\n"
     ]
    }
   ],
   "source": [
    "# Corrélation entre les informations concernant l'âge et le nombre total des achats effectués par ceux-ci\n",
    "print(\"Spearman \", st.spearmanr(nbr_achats_session.index, nbr_achats_session.values))"
   ]
  },
  {
   "cell_type": "code",
   "execution_count": 22,
   "id": "c3d1c131",
   "metadata": {},
   "outputs": [
    {
     "data": {
      "image/png": "[encoded data removed]",
      "text/plain": [
       "<Figure size 1152x720 with 1 Axes>"
      ]
     },
     "metadata": {
      "needs_background": "light"
     },
     "output_type": "display_data"
    }
   ],
   "source": [
    "fig = plt.figure(1, figsize=(16,10))\n",
    "sns.scatterplot(data=nbr_achats_session)\n",
    "plt.grid(axis='y')\n",
    "plt.ylabel(\"nombre total de transactions\")\n",
    "plt.show()"
   ]
  },
  {
   "cell_type": "markdown",
   "id": "f273da0a",
   "metadata": {},
   "source": [
    "Grâce à ce test de Spearman, le résultat montre que les clients de moins de 30 ans ont effectués moins d'achats que la tranche d'âge suivante (30-50 ans).\n",
    "Mais ce n'est pas pour autant que ça n'impacte pas le chiffre d'affaires, car d'autres résultats ont montré la somme rapportée."
   ]
  },
  {
   "cell_type": "markdown",
   "id": "f7e46e05",
   "metadata": {},
   "source": [
    "# Fréquence d'achats"
   ]
  },
  {
   "cell_type": "markdown",
   "id": "75823a8c",
   "metadata": {},
   "source": [
    "## <a class=\"anchor\" id=\"section_5_1\">Test de Spearman</a> - Calcul de la fréquence mensuelle par âges"
   ]
  },
  {
   "cell_type": "code",
   "execution_count": 27,
   "id": "79f8c8e9",
   "metadata": {},
   "outputs": [],
   "source": [
    "def frequence(x):\n",
    "    d = {}\n",
    "    d[\"frequence\"] = (x['session_id'].count() / x['client_id'].value_counts().count())\n",
    "    return pd.Series(d, index=['frequence'])"
   ]
  },
  {
   "cell_type": "code",
   "execution_count": 28,
   "id": "6ab599ff",
   "metadata": {},
   "outputs": [],
   "source": [
    "df_range_age_frequence = df_B2C.groupby(['year', 'month', 'range age']).apply(frequence)"
   ]
  },
  {
   "cell_type": "code",
   "execution_count": 33,
   "id": "72b6c7ef",
   "metadata": {},
   "outputs": [
    {
     "data": {
      "text/html": [
       "<div>\n",
       "<style scoped>\n",
       "    .dataframe tbody tr th:only-of-type {\n",
       "        vertical-align: middle;\n",
       "    }\n",
       "\n",
       "    .dataframe tbody tr th {\n",
       "        vertical-align: top;\n",
       "    }\n",
       "\n",
       "    .dataframe thead th {\n",
       "        text-align: right;\n",
       "    }\n",
       "</style>\n",
       "<table border=\"1\" class=\"dataframe\">\n",
       "  <thead>\n",
       "    <tr style=\"text-align: right;\">\n",
       "      <th></th>\n",
       "      <th>year</th>\n",
       "      <th>month</th>\n",
       "      <th>range age</th>\n",
       "      <th>frequence</th>\n",
       "    </tr>\n",
       "  </thead>\n",
       "  <tbody>\n",
       "    <tr>\n",
       "      <th>0</th>\n",
       "      <td>2021</td>\n",
       "      <td>3</td>\n",
       "      <td>18-23</td>\n",
       "      <td>2.66</td>\n",
       "    </tr>\n",
       "    <tr>\n",
       "      <th>1</th>\n",
       "      <td>2021</td>\n",
       "      <td>3</td>\n",
       "      <td>24-28</td>\n",
       "      <td>2.57</td>\n",
       "    </tr>\n",
       "    <tr>\n",
       "      <th>2</th>\n",
       "      <td>2021</td>\n",
       "      <td>3</td>\n",
       "      <td>29-34</td>\n",
       "      <td>5.91</td>\n",
       "    </tr>\n",
       "    <tr>\n",
       "      <th>3</th>\n",
       "      <td>2021</td>\n",
       "      <td>3</td>\n",
       "      <td>35-39</td>\n",
       "      <td>6.87</td>\n",
       "    </tr>\n",
       "    <tr>\n",
       "      <th>4</th>\n",
       "      <td>2021</td>\n",
       "      <td>3</td>\n",
       "      <td>40-44</td>\n",
       "      <td>6.38</td>\n",
       "    </tr>\n",
       "    <tr>\n",
       "      <th>...</th>\n",
       "      <td>...</td>\n",
       "      <td>...</td>\n",
       "      <td>...</td>\n",
       "      <td>...</td>\n",
       "    </tr>\n",
       "    <tr>\n",
       "      <th>331</th>\n",
       "      <td>2023</td>\n",
       "      <td>2</td>\n",
       "      <td>67-71</td>\n",
       "      <td>2.94</td>\n",
       "    </tr>\n",
       "    <tr>\n",
       "      <th>332</th>\n",
       "      <td>2023</td>\n",
       "      <td>2</td>\n",
       "      <td>72-76</td>\n",
       "      <td>3.12</td>\n",
       "    </tr>\n",
       "    <tr>\n",
       "      <th>333</th>\n",
       "      <td>2023</td>\n",
       "      <td>2</td>\n",
       "      <td>77-82</td>\n",
       "      <td>3.09</td>\n",
       "    </tr>\n",
       "    <tr>\n",
       "      <th>334</th>\n",
       "      <td>2023</td>\n",
       "      <td>2</td>\n",
       "      <td>83-87</td>\n",
       "      <td>2.63</td>\n",
       "    </tr>\n",
       "    <tr>\n",
       "      <th>335</th>\n",
       "      <td>2023</td>\n",
       "      <td>2</td>\n",
       "      <td>88-93</td>\n",
       "      <td>3.12</td>\n",
       "    </tr>\n",
       "  </tbody>\n",
       "</table>\n",
       "<p>336 rows × 4 columns</p>\n",
       "</div>"
      ],
      "text/plain": [
       "     year  month range age  frequence\n",
       "0    2021      3     18-23       2.66\n",
       "1    2021      3     24-28       2.57\n",
       "2    2021      3     29-34       5.91\n",
       "3    2021      3     35-39       6.87\n",
       "4    2021      3     40-44       6.38\n",
       "..    ...    ...       ...        ...\n",
       "331  2023      2     67-71       2.94\n",
       "332  2023      2     72-76       3.12\n",
       "333  2023      2     77-82       3.09\n",
       "334  2023      2     83-87       2.63\n",
       "335  2023      2     88-93       3.12\n",
       "\n",
       "[336 rows x 4 columns]"
      ]
     },
     "execution_count": 33,
     "metadata": {},
     "output_type": "execute_result"
    }
   ],
   "source": [
    "df_range_age_frequence = df_range_age_frequence.reset_index()\n",
    "df_range_age_frequence"
   ]
  },
  {
   "cell_type": "code",
   "execution_count": 23,
   "id": "229f6bc0",
   "metadata": {},
   "outputs": [
    {
     "data": {
      "text/html": [
       "<div>\n",
       "<style scoped>\n",
       "    .dataframe tbody tr th:only-of-type {\n",
       "        vertical-align: middle;\n",
       "    }\n",
       "\n",
       "    .dataframe tbody tr th {\n",
       "        vertical-align: top;\n",
       "    }\n",
       "\n",
       "    .dataframe thead th {\n",
       "        text-align: right;\n",
       "    }\n",
       "</style>\n",
       "<table border=\"1\" class=\"dataframe\">\n",
       "  <thead>\n",
       "    <tr style=\"text-align: right;\">\n",
       "      <th></th>\n",
       "      <th>age</th>\n",
       "      <th>session_id</th>\n",
       "      <th>freq age</th>\n",
       "    </tr>\n",
       "  </thead>\n",
       "  <tbody>\n",
       "    <tr>\n",
       "      <th>0</th>\n",
       "      <td>18</td>\n",
       "      <td>15149</td>\n",
       "      <td>0.02</td>\n",
       "    </tr>\n",
       "    <tr>\n",
       "      <th>1</th>\n",
       "      <td>19</td>\n",
       "      <td>4371</td>\n",
       "      <td>0.01</td>\n",
       "    </tr>\n",
       "    <tr>\n",
       "      <th>2</th>\n",
       "      <td>20</td>\n",
       "      <td>4587</td>\n",
       "      <td>0.01</td>\n",
       "    </tr>\n",
       "    <tr>\n",
       "      <th>3</th>\n",
       "      <td>21</td>\n",
       "      <td>4252</td>\n",
       "      <td>0.01</td>\n",
       "    </tr>\n",
       "    <tr>\n",
       "      <th>4</th>\n",
       "      <td>22</td>\n",
       "      <td>4415</td>\n",
       "      <td>0.01</td>\n",
       "    </tr>\n",
       "  </tbody>\n",
       "</table>\n",
       "</div>"
      ],
      "text/plain": [
       "   age  session_id  freq age\n",
       "0   18       15149      0.02\n",
       "1   19        4371      0.01\n",
       "2   20        4587      0.01\n",
       "3   21        4252      0.01\n",
       "4   22        4415      0.01"
      ]
     },
     "execution_count": 23,
     "metadata": {},
     "output_type": "execute_result"
    }
   ],
   "source": [
    "age_freq = df_B2C.groupby('age').count().reset_index()\n",
    "age_freq = age_freq[['age', 'session_id']]\n",
    "age_freq['freq age'] = age_freq['session_id'] / sum(age_freq['session_id'])\n",
    "age_freq.head()"
   ]
  },
  {
   "cell_type": "code",
   "execution_count": 24,
   "id": "5522d3bd",
   "metadata": {},
   "outputs": [
    {
     "name": "stdout",
     "output_type": "stream",
     "text": [
      "Corrélation de Spearman:  SpearmanrResult(correlation=-0.6738482570061518, pvalue=2.5391854434818517e-11)\n"
     ]
    }
   ],
   "source": [
    "print(\"Corrélation de Spearman: \", st.spearmanr(age_freq['age'], age_freq['session_id']))"
   ]
  },
  {
   "cell_type": "code",
   "execution_count": 25,
   "id": "8ddd9ba8",
   "metadata": {},
   "outputs": [
    {
     "data": {
      "image/png": "[encoded data removed]",
      "text/plain": [
       "<Figure size 1152x720 with 1 Axes>"
      ]
     },
     "metadata": {
      "needs_background": "light"
     },
     "output_type": "display_data"
    }
   ],
   "source": [
    "fig = plt.figure(1, figsize=(16,10))\n",
    "sns.scatterplot(x='age', \n",
    "            y='freq age', \n",
    "            data=age_freq)\n",
    "plt.grid(axis='y')\n",
    "plt.title(\"Fréquence d'achats par âges\")\n",
    "plt.xticks(rotation=45)\n",
    "plt.xlabel(\"âges\")\n",
    "plt.show()"
   ]
  },
  {
   "cell_type": "markdown",
   "id": "cb4304c8",
   "metadata": {},
   "source": [
    "## <a class=\"anchor\" id=\"section_5_2\">Test d'ANOVA</a> - Lien entre la fréquence d'achats et l'âge"
   ]
  },
  {
   "cell_type": "markdown",
   "id": "e586839d",
   "metadata": {},
   "source": [
    "[Utilisation d'ANOVA pour ce test](https://www.statsmodels.org/stable/anova.html)\n",
    "\n",
    "[Informations supplémentaires concernant le test d'ANOVA](https://www.statsmodels.org/stable/examples/notebooks/generated/interactions_anova.html)"
   ]
  },
  {
   "cell_type": "code",
   "execution_count": 35,
   "id": "3dc49fd9",
   "metadata": {},
   "outputs": [],
   "source": [
    "df_range_age_frequence = df_range_age_frequence.rename(columns = {\n",
    "    'range age' : 'range_age'\n",
    "})"
   ]
  },
  {
   "cell_type": "code",
   "execution_count": 36,
   "id": "74e2d99c",
   "metadata": {},
   "outputs": [
    {
     "data": {
      "text/html": [
       "<div>\n",
       "<style scoped>\n",
       "    .dataframe tbody tr th:only-of-type {\n",
       "        vertical-align: middle;\n",
       "    }\n",
       "\n",
       "    .dataframe tbody tr th {\n",
       "        vertical-align: top;\n",
       "    }\n",
       "\n",
       "    .dataframe thead th {\n",
       "        text-align: right;\n",
       "    }\n",
       "</style>\n",
       "<table border=\"1\" class=\"dataframe\">\n",
       "  <thead>\n",
       "    <tr style=\"text-align: right;\">\n",
       "      <th></th>\n",
       "      <th>df</th>\n",
       "      <th>sum_sq</th>\n",
       "      <th>mean_sq</th>\n",
       "      <th>F</th>\n",
       "      <th>PR(&gt;F)</th>\n",
       "    </tr>\n",
       "  </thead>\n",
       "  <tbody>\n",
       "    <tr>\n",
       "      <th>range_age</th>\n",
       "      <td>13.00</td>\n",
       "      <td>648.15</td>\n",
       "      <td>49.86</td>\n",
       "      <td>326.96</td>\n",
       "      <td>0.00</td>\n",
       "    </tr>\n",
       "    <tr>\n",
       "      <th>Residual</th>\n",
       "      <td>322.00</td>\n",
       "      <td>49.10</td>\n",
       "      <td>0.15</td>\n",
       "      <td>NaN</td>\n",
       "      <td>NaN</td>\n",
       "    </tr>\n",
       "  </tbody>\n",
       "</table>\n",
       "</div>"
      ],
      "text/plain": [
       "              df  sum_sq  mean_sq      F  PR(>F)\n",
       "range_age  13.00  648.15    49.86 326.96    0.00\n",
       "Residual  322.00   49.10     0.15    NaN     NaN"
      ]
     },
     "execution_count": 36,
     "metadata": {},
     "output_type": "execute_result"
    }
   ],
   "source": [
    "lm = ols('frequence ~ range_age', data = df_range_age_frequence).fit()\n",
    "table = sm.stats.anova_lm(lm)\n",
    "table"
   ]
  },
  {
   "cell_type": "code",
   "execution_count": 37,
   "id": "1ea3e8b8",
   "metadata": {},
   "outputs": [
    {
     "data": {
      "text/html": [
       "<table class=\"simpletable\">\n",
       "<caption>OLS Regression Results</caption>\n",
       "<tr>\n",
       "  <th>Dep. Variable:</th>        <td>frequence</td>    <th>  R-squared:         </th> <td>   0.930</td> \n",
       "</tr>\n",
       "<tr>\n",
       "  <th>Model:</th>                   <td>OLS</td>       <th>  Adj. R-squared:    </th> <td>   0.927</td> \n",
       "</tr>\n",
       "<tr>\n",
       "  <th>Method:</th>             <td>Least Squares</td>  <th>  F-statistic:       </th> <td>   327.0</td> \n",
       "</tr>\n",
       "<tr>\n",
       "  <th>Date:</th>             <td>Mon, 31 Oct 2022</td> <th>  Prob (F-statistic):</th> <td>1.08e-176</td>\n",
       "</tr>\n",
       "<tr>\n",
       "  <th>Time:</th>                 <td>13:54:16</td>     <th>  Log-Likelihood:    </th> <td> -153.66</td> \n",
       "</tr>\n",
       "<tr>\n",
       "  <th>No. Observations:</th>      <td>   336</td>      <th>  AIC:               </th> <td>   335.3</td> \n",
       "</tr>\n",
       "<tr>\n",
       "  <th>Df Residuals:</th>          <td>   322</td>      <th>  BIC:               </th> <td>   388.8</td> \n",
       "</tr>\n",
       "<tr>\n",
       "  <th>Df Model:</th>              <td>    13</td>      <th>                     </th>     <td> </td>    \n",
       "</tr>\n",
       "<tr>\n",
       "  <th>Covariance Type:</th>      <td>nonrobust</td>    <th>                     </th>     <td> </td>    \n",
       "</tr>\n",
       "</table>\n",
       "<table class=\"simpletable\">\n",
       "<tr>\n",
       "           <td></td>             <th>coef</th>     <th>std err</th>      <th>t</th>      <th>P>|t|</th>  <th>[0.025</th>    <th>0.975]</th>  \n",
       "</tr>\n",
       "<tr>\n",
       "  <th>Intercept</th>          <td>    2.6982</td> <td>    0.080</td> <td>   33.850</td> <td> 0.000</td> <td>    2.541</td> <td>    2.855</td>\n",
       "</tr>\n",
       "<tr>\n",
       "  <th>range_age[T.24-28]</th> <td>    0.0340</td> <td>    0.113</td> <td>    0.302</td> <td> 0.763</td> <td>   -0.188</td> <td>    0.256</td>\n",
       "</tr>\n",
       "<tr>\n",
       "  <th>range_age[T.29-34]</th> <td>    2.8213</td> <td>    0.113</td> <td>   25.028</td> <td> 0.000</td> <td>    2.600</td> <td>    3.043</td>\n",
       "</tr>\n",
       "<tr>\n",
       "  <th>range_age[T.35-39]</th> <td>    3.9754</td> <td>    0.113</td> <td>   35.266</td> <td> 0.000</td> <td>    3.754</td> <td>    4.197</td>\n",
       "</tr>\n",
       "<tr>\n",
       "  <th>range_age[T.40-44]</th> <td>    3.6594</td> <td>    0.113</td> <td>   32.463</td> <td> 0.000</td> <td>    3.438</td> <td>    3.881</td>\n",
       "</tr>\n",
       "<tr>\n",
       "  <th>range_age[T.45-50]</th> <td>    3.6038</td> <td>    0.113</td> <td>   31.969</td> <td> 0.000</td> <td>    3.382</td> <td>    3.826</td>\n",
       "</tr>\n",
       "<tr>\n",
       "  <th>range_age[T.51-55]</th> <td>    0.6938</td> <td>    0.113</td> <td>    6.154</td> <td> 0.000</td> <td>    0.472</td> <td>    0.916</td>\n",
       "</tr>\n",
       "<tr>\n",
       "  <th>range_age[T.56-60]</th> <td>    0.7887</td> <td>    0.113</td> <td>    6.997</td> <td> 0.000</td> <td>    0.567</td> <td>    1.010</td>\n",
       "</tr>\n",
       "<tr>\n",
       "  <th>range_age[T.61-66]</th> <td>    0.6700</td> <td>    0.113</td> <td>    5.943</td> <td> 0.000</td> <td>    0.448</td> <td>    0.892</td>\n",
       "</tr>\n",
       "<tr>\n",
       "  <th>range_age[T.67-71]</th> <td>    0.6113</td> <td>    0.113</td> <td>    5.422</td> <td> 0.000</td> <td>    0.389</td> <td>    0.833</td>\n",
       "</tr>\n",
       "<tr>\n",
       "  <th>range_age[T.72-76]</th> <td>    0.6661</td> <td>    0.113</td> <td>    5.909</td> <td> 0.000</td> <td>    0.444</td> <td>    0.888</td>\n",
       "</tr>\n",
       "<tr>\n",
       "  <th>range_age[T.77-82]</th> <td>    0.5876</td> <td>    0.113</td> <td>    5.213</td> <td> 0.000</td> <td>    0.366</td> <td>    0.809</td>\n",
       "</tr>\n",
       "<tr>\n",
       "  <th>range_age[T.83-87]</th> <td>    0.6310</td> <td>    0.113</td> <td>    5.598</td> <td> 0.000</td> <td>    0.409</td> <td>    0.853</td>\n",
       "</tr>\n",
       "<tr>\n",
       "  <th>range_age[T.88-93]</th> <td>    0.5305</td> <td>    0.113</td> <td>    4.706</td> <td> 0.000</td> <td>    0.309</td> <td>    0.752</td>\n",
       "</tr>\n",
       "</table>\n",
       "<table class=\"simpletable\">\n",
       "<tr>\n",
       "  <th>Omnibus:</th>       <td>29.384</td> <th>  Durbin-Watson:     </th> <td>   0.665</td>\n",
       "</tr>\n",
       "<tr>\n",
       "  <th>Prob(Omnibus):</th> <td> 0.000</td> <th>  Jarque-Bera (JB):  </th> <td> 131.192</td>\n",
       "</tr>\n",
       "<tr>\n",
       "  <th>Skew:</th>          <td>-0.011</td> <th>  Prob(JB):          </th> <td>3.25e-29</td>\n",
       "</tr>\n",
       "<tr>\n",
       "  <th>Kurtosis:</th>      <td> 6.061</td> <th>  Cond. No.          </th> <td>    14.9</td>\n",
       "</tr>\n",
       "</table><br/><br/>Notes:<br/>[1] Standard Errors assume that the covariance matrix of the errors is correctly specified."
      ],
      "text/plain": [
       "<class 'statsmodels.iolib.summary.Summary'>\n",
       "\"\"\"\n",
       "                            OLS Regression Results                            \n",
       "==============================================================================\n",
       "Dep. Variable:              frequence   R-squared:                       0.930\n",
       "Model:                            OLS   Adj. R-squared:                  0.927\n",
       "Method:                 Least Squares   F-statistic:                     327.0\n",
       "Date:                Mon, 31 Oct 2022   Prob (F-statistic):          1.08e-176\n",
       "Time:                        13:54:16   Log-Likelihood:                -153.66\n",
       "No. Observations:                 336   AIC:                             335.3\n",
       "Df Residuals:                     322   BIC:                             388.8\n",
       "Df Model:                          13                                         \n",
       "Covariance Type:            nonrobust                                         \n",
       "======================================================================================\n",
       "                         coef    std err          t      P>|t|      [0.025      0.975]\n",
       "--------------------------------------------------------------------------------------\n",
       "Intercept              2.6982      0.080     33.850      0.000       2.541       2.855\n",
       "range_age[T.24-28]     0.0340      0.113      0.302      0.763      -0.188       0.256\n",
       "range_age[T.29-34]     2.8213      0.113     25.028      0.000       2.600       3.043\n",
       "range_age[T.35-39]     3.9754      0.113     35.266      0.000       3.754       4.197\n",
       "range_age[T.40-44]     3.6594      0.113     32.463      0.000       3.438       3.881\n",
       "range_age[T.45-50]     3.6038      0.113     31.969      0.000       3.382       3.826\n",
       "range_age[T.51-55]     0.6938      0.113      6.154      0.000       0.472       0.916\n",
       "range_age[T.56-60]     0.7887      0.113      6.997      0.000       0.567       1.010\n",
       "range_age[T.61-66]     0.6700      0.113      5.943      0.000       0.448       0.892\n",
       "range_age[T.67-71]     0.6113      0.113      5.422      0.000       0.389       0.833\n",
       "range_age[T.72-76]     0.6661      0.113      5.909      0.000       0.444       0.888\n",
       "range_age[T.77-82]     0.5876      0.113      5.213      0.000       0.366       0.809\n",
       "range_age[T.83-87]     0.6310      0.113      5.598      0.000       0.409       0.853\n",
       "range_age[T.88-93]     0.5305      0.113      4.706      0.000       0.309       0.752\n",
       "==============================================================================\n",
       "Omnibus:                       29.384   Durbin-Watson:                   0.665\n",
       "Prob(Omnibus):                  0.000   Jarque-Bera (JB):              131.192\n",
       "Skew:                          -0.011   Prob(JB):                     3.25e-29\n",
       "Kurtosis:                       6.061   Cond. No.                         14.9\n",
       "==============================================================================\n",
       "\n",
       "Notes:\n",
       "[1] Standard Errors assume that the covariance matrix of the errors is correctly specified.\n",
       "\"\"\""
      ]
     },
     "execution_count": 37,
     "metadata": {},
     "output_type": "execute_result"
    }
   ],
   "source": [
    "lm.summary()"
   ]
  },
  {
   "cell_type": "markdown",
   "id": "8b03fc4b",
   "metadata": {},
   "source": [
    "Le R-squared est à 0.93. Nous avons donc une relation entre l'âge et la fréquence d'achats. Ce résultat est intéressant pour interprêter un pourcentage de variation.<br />"
   ]
  },
  {
   "cell_type": "markdown",
   "id": "21d08c8b",
   "metadata": {},
   "source": [
    "## Conclusion\n",
    "\n",
    "\n",
    "D'après l'analyse, la librairie se porte bien. La clientèle B2B est présente dans chaque catégorie et amène plus ou moins de clients B2C fidèles pour ces catégories.<br />\n",
    "\n",
    "Côté clientèle C2C, elle rapporte plusieurs informations. Des parents qui achètent pour leurs enfants ou pour eux-mêmes. Une clientèle adulte qui revient souvent pour effectuer des achats. Une clientèle jeune qui revient moins souvent mais repartent avec un panier plus élevé.<br />"
   ]
  },
  {
   "cell_type": "code",
   "execution_count": null,
   "id": "9701029a",
   "metadata": {},
   "outputs": [],
   "source": []
  }
 ],
 "metadata": {
  "kernelspec": {
   "display_name": "Python 3 (ipykernel)",
   "language": "python",
   "name": "python3"
  },
  "language_info": {
   "codemirror_mode": {
    "name": "ipython",
    "version": 3
   },
   "file_extension": ".py",
   "mimetype": "text/x-python",
   "name": "python",
   "nbconvert_exporter": "python",
   "pygments_lexer": "ipython3",
   "version": "3.9.12"
  }
 },
 "nbformat": 4,
 "nbformat_minor": 5
}
